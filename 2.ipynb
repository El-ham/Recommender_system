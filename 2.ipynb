{
 "cells": [
  {
   "cell_type": "code",
   "execution_count": 3,
   "id": "9bea02f8-64a7-4e2a-82f0-6720f57b4c31",
   "metadata": {},
   "outputs": [],
   "source": [
    "import pandas as pd\n",
    "import os\n",
    "import sklearn as sk\n",
    "from sklearn.metrics.pairwise import cosine_similarity\n",
    "import numpy as np\n",
    "from scipy.sparse import csr_matrix\n",
    "import implicit\n",
    "from sklearn.metrics.pairwise import pairwise_distances\n"
   ]
  },
  {
   "cell_type": "code",
   "execution_count": 4,
   "id": "8865e173-e9ef-44ed-a85a-ad61b82d8096",
   "metadata": {},
   "outputs": [
    {
     "data": {
      "text/plain": [
       "'C:\\\\Users\\\\enabi\\\\OneDrive\\\\Desktop\\\\11182022\\\\DS_apply\\\\Projects_for_github\\\\Recommonder_system\\\\Recommender_system'"
      ]
     },
     "execution_count": 4,
     "metadata": {},
     "output_type": "execute_result"
    }
   ],
   "source": [
    "os.getcwd()"
   ]
  },
  {
   "cell_type": "code",
   "execution_count": 5,
   "id": "ebe60121-2895-48f3-b6a2-ecfd555b3319",
   "metadata": {},
   "outputs": [],
   "source": [
    "df_user_ratedmovies_timestamps= pd.read_csv('all/user_ratedmovies-timestamps.dat', sep='\\t', encoding='ISO-8859-1')"
   ]
  },
  {
   "cell_type": "code",
   "execution_count": 6,
   "id": "0a321361-234c-419b-aca2-a84569fe26da",
   "metadata": {},
   "outputs": [
    {
     "data": {
      "text/html": [
       "<div>\n",
       "<style scoped>\n",
       "    .dataframe tbody tr th:only-of-type {\n",
       "        vertical-align: middle;\n",
       "    }\n",
       "\n",
       "    .dataframe tbody tr th {\n",
       "        vertical-align: top;\n",
       "    }\n",
       "\n",
       "    .dataframe thead th {\n",
       "        text-align: right;\n",
       "    }\n",
       "</style>\n",
       "<table border=\"1\" class=\"dataframe\">\n",
       "  <thead>\n",
       "    <tr style=\"text-align: right;\">\n",
       "      <th></th>\n",
       "      <th>userID</th>\n",
       "      <th>movieID</th>\n",
       "      <th>rating</th>\n",
       "      <th>timestamp</th>\n",
       "    </tr>\n",
       "  </thead>\n",
       "  <tbody>\n",
       "    <tr>\n",
       "      <th>0</th>\n",
       "      <td>75</td>\n",
       "      <td>3</td>\n",
       "      <td>1.0</td>\n",
       "      <td>1162160236000</td>\n",
       "    </tr>\n",
       "    <tr>\n",
       "      <th>1</th>\n",
       "      <td>75</td>\n",
       "      <td>32</td>\n",
       "      <td>4.5</td>\n",
       "      <td>1162160624000</td>\n",
       "    </tr>\n",
       "    <tr>\n",
       "      <th>2</th>\n",
       "      <td>75</td>\n",
       "      <td>110</td>\n",
       "      <td>4.0</td>\n",
       "      <td>1162161008000</td>\n",
       "    </tr>\n",
       "    <tr>\n",
       "      <th>3</th>\n",
       "      <td>75</td>\n",
       "      <td>160</td>\n",
       "      <td>2.0</td>\n",
       "      <td>1162160212000</td>\n",
       "    </tr>\n",
       "    <tr>\n",
       "      <th>4</th>\n",
       "      <td>75</td>\n",
       "      <td>163</td>\n",
       "      <td>4.0</td>\n",
       "      <td>1162160970000</td>\n",
       "    </tr>\n",
       "  </tbody>\n",
       "</table>\n",
       "</div>"
      ],
      "text/plain": [
       "   userID  movieID  rating      timestamp\n",
       "0      75        3     1.0  1162160236000\n",
       "1      75       32     4.5  1162160624000\n",
       "2      75      110     4.0  1162161008000\n",
       "3      75      160     2.0  1162160212000\n",
       "4      75      163     4.0  1162160970000"
      ]
     },
     "execution_count": 6,
     "metadata": {},
     "output_type": "execute_result"
    }
   ],
   "source": [
    "df_user_ratedmovies_timestamps.head()"
   ]
  },
  {
   "cell_type": "code",
   "execution_count": 7,
   "id": "bdf8dc14-9404-437e-8cab-dbaf2b2604bb",
   "metadata": {},
   "outputs": [
    {
     "data": {
      "text/plain": [
       "65133"
      ]
     },
     "execution_count": 7,
     "metadata": {},
     "output_type": "execute_result"
    }
   ],
   "source": [
    "df_user_ratedmovies_timestamps['movieID'].max()"
   ]
  },
  {
   "cell_type": "code",
   "execution_count": 8,
   "id": "7f2e2d0f-69b8-4ff4-a9af-0f83a3d81109",
   "metadata": {},
   "outputs": [],
   "source": [
    "df_movies= pd.read_csv('all/movies.dat', sep='\\t', encoding='ISO-8859-1')"
   ]
  },
  {
   "cell_type": "code",
   "execution_count": 9,
   "id": "9d37ea1a-647c-43ad-8f27-2fa084b4aee6",
   "metadata": {},
   "outputs": [
    {
     "data": {
      "text/html": [
       "<div>\n",
       "<style scoped>\n",
       "    .dataframe tbody tr th:only-of-type {\n",
       "        vertical-align: middle;\n",
       "    }\n",
       "\n",
       "    .dataframe tbody tr th {\n",
       "        vertical-align: top;\n",
       "    }\n",
       "\n",
       "    .dataframe thead th {\n",
       "        text-align: right;\n",
       "    }\n",
       "</style>\n",
       "<table border=\"1\" class=\"dataframe\">\n",
       "  <thead>\n",
       "    <tr style=\"text-align: right;\">\n",
       "      <th></th>\n",
       "      <th>id</th>\n",
       "      <th>title</th>\n",
       "      <th>imdbID</th>\n",
       "      <th>spanishTitle</th>\n",
       "      <th>imdbPictureURL</th>\n",
       "      <th>year</th>\n",
       "      <th>rtID</th>\n",
       "      <th>rtAllCriticsRating</th>\n",
       "      <th>rtAllCriticsNumReviews</th>\n",
       "      <th>rtAllCriticsNumFresh</th>\n",
       "      <th>...</th>\n",
       "      <th>rtAllCriticsScore</th>\n",
       "      <th>rtTopCriticsRating</th>\n",
       "      <th>rtTopCriticsNumReviews</th>\n",
       "      <th>rtTopCriticsNumFresh</th>\n",
       "      <th>rtTopCriticsNumRotten</th>\n",
       "      <th>rtTopCriticsScore</th>\n",
       "      <th>rtAudienceRating</th>\n",
       "      <th>rtAudienceNumRatings</th>\n",
       "      <th>rtAudienceScore</th>\n",
       "      <th>rtPictureURL</th>\n",
       "    </tr>\n",
       "  </thead>\n",
       "  <tbody>\n",
       "    <tr>\n",
       "      <th>0</th>\n",
       "      <td>1</td>\n",
       "      <td>Toy story</td>\n",
       "      <td>114709</td>\n",
       "      <td>Toy story (juguetes)</td>\n",
       "      <td>http://ia.media-imdb.com/images/M/MV5BMTMwNDU0...</td>\n",
       "      <td>1995</td>\n",
       "      <td>toy_story</td>\n",
       "      <td>9</td>\n",
       "      <td>73</td>\n",
       "      <td>73</td>\n",
       "      <td>...</td>\n",
       "      <td>100</td>\n",
       "      <td>8.5</td>\n",
       "      <td>17</td>\n",
       "      <td>17</td>\n",
       "      <td>0</td>\n",
       "      <td>100</td>\n",
       "      <td>3.7</td>\n",
       "      <td>102338</td>\n",
       "      <td>81</td>\n",
       "      <td>http://content7.flixster.com/movie/10/93/63/10...</td>\n",
       "    </tr>\n",
       "    <tr>\n",
       "      <th>1</th>\n",
       "      <td>2</td>\n",
       "      <td>Jumanji</td>\n",
       "      <td>113497</td>\n",
       "      <td>Jumanji</td>\n",
       "      <td>http://ia.media-imdb.com/images/M/MV5BMzM5NjE1...</td>\n",
       "      <td>1995</td>\n",
       "      <td>1068044-jumanji</td>\n",
       "      <td>5.6</td>\n",
       "      <td>28</td>\n",
       "      <td>13</td>\n",
       "      <td>...</td>\n",
       "      <td>46</td>\n",
       "      <td>5.8</td>\n",
       "      <td>5</td>\n",
       "      <td>2</td>\n",
       "      <td>3</td>\n",
       "      <td>40</td>\n",
       "      <td>3.2</td>\n",
       "      <td>44587</td>\n",
       "      <td>61</td>\n",
       "      <td>http://content8.flixster.com/movie/56/79/73/56...</td>\n",
       "    </tr>\n",
       "    <tr>\n",
       "      <th>2</th>\n",
       "      <td>3</td>\n",
       "      <td>Grumpy Old Men</td>\n",
       "      <td>107050</td>\n",
       "      <td>Dos viejos gruñones</td>\n",
       "      <td>http://ia.media-imdb.com/images/M/MV5BMTI5MTgy...</td>\n",
       "      <td>1993</td>\n",
       "      <td>grumpy_old_men</td>\n",
       "      <td>5.9</td>\n",
       "      <td>36</td>\n",
       "      <td>24</td>\n",
       "      <td>...</td>\n",
       "      <td>66</td>\n",
       "      <td>7</td>\n",
       "      <td>6</td>\n",
       "      <td>5</td>\n",
       "      <td>1</td>\n",
       "      <td>83</td>\n",
       "      <td>3.2</td>\n",
       "      <td>10489</td>\n",
       "      <td>66</td>\n",
       "      <td>http://content6.flixster.com/movie/25/60/25602...</td>\n",
       "    </tr>\n",
       "    <tr>\n",
       "      <th>3</th>\n",
       "      <td>4</td>\n",
       "      <td>Waiting to Exhale</td>\n",
       "      <td>114885</td>\n",
       "      <td>Esperando un respiro</td>\n",
       "      <td>http://ia.media-imdb.com/images/M/MV5BMTczMTMy...</td>\n",
       "      <td>1995</td>\n",
       "      <td>waiting_to_exhale</td>\n",
       "      <td>5.6</td>\n",
       "      <td>25</td>\n",
       "      <td>14</td>\n",
       "      <td>...</td>\n",
       "      <td>56</td>\n",
       "      <td>5.5</td>\n",
       "      <td>11</td>\n",
       "      <td>5</td>\n",
       "      <td>6</td>\n",
       "      <td>45</td>\n",
       "      <td>3.3</td>\n",
       "      <td>5666</td>\n",
       "      <td>79</td>\n",
       "      <td>http://content9.flixster.com/movie/10/94/17/10...</td>\n",
       "    </tr>\n",
       "    <tr>\n",
       "      <th>4</th>\n",
       "      <td>5</td>\n",
       "      <td>Father of the Bride Part II</td>\n",
       "      <td>113041</td>\n",
       "      <td>Vuelve el padre de la novia (Ahora también abu...</td>\n",
       "      <td>http://ia.media-imdb.com/images/M/MV5BMTg1NDc2...</td>\n",
       "      <td>1995</td>\n",
       "      <td>father_of_the_bride_part_ii</td>\n",
       "      <td>5.3</td>\n",
       "      <td>19</td>\n",
       "      <td>9</td>\n",
       "      <td>...</td>\n",
       "      <td>47</td>\n",
       "      <td>5.4</td>\n",
       "      <td>5</td>\n",
       "      <td>1</td>\n",
       "      <td>4</td>\n",
       "      <td>20</td>\n",
       "      <td>3</td>\n",
       "      <td>13761</td>\n",
       "      <td>64</td>\n",
       "      <td>http://content8.flixster.com/movie/25/54/25542...</td>\n",
       "    </tr>\n",
       "  </tbody>\n",
       "</table>\n",
       "<p>5 rows × 21 columns</p>\n",
       "</div>"
      ],
      "text/plain": [
       "   id                        title  imdbID  \\\n",
       "0   1                    Toy story  114709   \n",
       "1   2                      Jumanji  113497   \n",
       "2   3               Grumpy Old Men  107050   \n",
       "3   4            Waiting to Exhale  114885   \n",
       "4   5  Father of the Bride Part II  113041   \n",
       "\n",
       "                                        spanishTitle  \\\n",
       "0                               Toy story (juguetes)   \n",
       "1                                            Jumanji   \n",
       "2                                Dos viejos gruñones   \n",
       "3                               Esperando un respiro   \n",
       "4  Vuelve el padre de la novia (Ahora también abu...   \n",
       "\n",
       "                                      imdbPictureURL  year  \\\n",
       "0  http://ia.media-imdb.com/images/M/MV5BMTMwNDU0...  1995   \n",
       "1  http://ia.media-imdb.com/images/M/MV5BMzM5NjE1...  1995   \n",
       "2  http://ia.media-imdb.com/images/M/MV5BMTI5MTgy...  1993   \n",
       "3  http://ia.media-imdb.com/images/M/MV5BMTczMTMy...  1995   \n",
       "4  http://ia.media-imdb.com/images/M/MV5BMTg1NDc2...  1995   \n",
       "\n",
       "                          rtID rtAllCriticsRating rtAllCriticsNumReviews  \\\n",
       "0                    toy_story                  9                     73   \n",
       "1              1068044-jumanji                5.6                     28   \n",
       "2               grumpy_old_men                5.9                     36   \n",
       "3            waiting_to_exhale                5.6                     25   \n",
       "4  father_of_the_bride_part_ii                5.3                     19   \n",
       "\n",
       "  rtAllCriticsNumFresh  ... rtAllCriticsScore rtTopCriticsRating  \\\n",
       "0                   73  ...               100                8.5   \n",
       "1                   13  ...                46                5.8   \n",
       "2                   24  ...                66                  7   \n",
       "3                   14  ...                56                5.5   \n",
       "4                    9  ...                47                5.4   \n",
       "\n",
       "  rtTopCriticsNumReviews rtTopCriticsNumFresh rtTopCriticsNumRotten  \\\n",
       "0                     17                   17                     0   \n",
       "1                      5                    2                     3   \n",
       "2                      6                    5                     1   \n",
       "3                     11                    5                     6   \n",
       "4                      5                    1                     4   \n",
       "\n",
       "  rtTopCriticsScore rtAudienceRating rtAudienceNumRatings rtAudienceScore  \\\n",
       "0               100              3.7               102338              81   \n",
       "1                40              3.2                44587              61   \n",
       "2                83              3.2                10489              66   \n",
       "3                45              3.3                 5666              79   \n",
       "4                20                3                13761              64   \n",
       "\n",
       "                                        rtPictureURL  \n",
       "0  http://content7.flixster.com/movie/10/93/63/10...  \n",
       "1  http://content8.flixster.com/movie/56/79/73/56...  \n",
       "2  http://content6.flixster.com/movie/25/60/25602...  \n",
       "3  http://content9.flixster.com/movie/10/94/17/10...  \n",
       "4  http://content8.flixster.com/movie/25/54/25542...  \n",
       "\n",
       "[5 rows x 21 columns]"
      ]
     },
     "execution_count": 9,
     "metadata": {},
     "output_type": "execute_result"
    }
   ],
   "source": [
    "df_movies.head()"
   ]
  },
  {
   "cell_type": "code",
   "execution_count": 10,
   "id": "8d84d1c0-95b6-43f0-9656-70a4e81e83f1",
   "metadata": {},
   "outputs": [
    {
     "data": {
      "text/plain": [
       "65133"
      ]
     },
     "execution_count": 10,
     "metadata": {},
     "output_type": "execute_result"
    }
   ],
   "source": [
    "df_movies['id'].max()"
   ]
  },
  {
   "cell_type": "code",
   "execution_count": 14,
   "id": "0d8a5041-a910-4d7a-b84c-95ac1a3577f9",
   "metadata": {},
   "outputs": [
    {
     "data": {
      "text/plain": [
       "{'The Matrix': array([2571], dtype=int64),\n",
       " 'Alien': array([1214], dtype=int64),\n",
       " 'The Godfather': array([  858, 25934], dtype=int64)}"
      ]
     },
     "execution_count": 14,
     "metadata": {},
     "output_type": "execute_result"
    }
   ],
   "source": [
    "#Obtain the ratings corresponding to some movies:\n",
    "\n",
    "some_movies= ['The Matrix', 'Alien', 'The Godfather']\n",
    "some_ids= {}\n",
    "for mov in some_movies:\n",
    "    some_ids[mov]=df_movies.loc[df_movies['title']==mov,'id'].values\n",
    "some_ids"
   ]
  },
  {
   "cell_type": "code",
   "execution_count": 123,
   "id": "6af07b86-5197-4aad-a8e6-499478d61015",
   "metadata": {},
   "outputs": [
    {
     "data": {
      "text/html": [
       "<div>\n",
       "<style scoped>\n",
       "    .dataframe tbody tr th:only-of-type {\n",
       "        vertical-align: middle;\n",
       "    }\n",
       "\n",
       "    .dataframe tbody tr th {\n",
       "        vertical-align: top;\n",
       "    }\n",
       "\n",
       "    .dataframe thead th {\n",
       "        text-align: right;\n",
       "    }\n",
       "</style>\n",
       "<table border=\"1\" class=\"dataframe\">\n",
       "  <thead>\n",
       "    <tr style=\"text-align: right;\">\n",
       "      <th></th>\n",
       "      <th>id</th>\n",
       "      <th>title</th>\n",
       "      <th>imdbID</th>\n",
       "      <th>spanishTitle</th>\n",
       "      <th>imdbPictureURL</th>\n",
       "      <th>year</th>\n",
       "      <th>rtID</th>\n",
       "      <th>rtAllCriticsRating</th>\n",
       "      <th>rtAllCriticsNumReviews</th>\n",
       "      <th>rtAllCriticsNumFresh</th>\n",
       "      <th>...</th>\n",
       "      <th>rtAllCriticsScore</th>\n",
       "      <th>rtTopCriticsRating</th>\n",
       "      <th>rtTopCriticsNumReviews</th>\n",
       "      <th>rtTopCriticsNumFresh</th>\n",
       "      <th>rtTopCriticsNumRotten</th>\n",
       "      <th>rtTopCriticsScore</th>\n",
       "      <th>rtAudienceRating</th>\n",
       "      <th>rtAudienceNumRatings</th>\n",
       "      <th>rtAudienceScore</th>\n",
       "      <th>rtPictureURL</th>\n",
       "    </tr>\n",
       "  </thead>\n",
       "  <tbody>\n",
       "    <tr>\n",
       "      <th>787</th>\n",
       "      <td>858</td>\n",
       "      <td>The Godfather</td>\n",
       "      <td>68646</td>\n",
       "      <td>El padrino</td>\n",
       "      <td>http://ia.media-imdb.com/images/M/MV5BMTc3MDQz...</td>\n",
       "      <td>1972</td>\n",
       "      <td>godfather</td>\n",
       "      <td>9</td>\n",
       "      <td>66</td>\n",
       "      <td>66</td>\n",
       "      <td>...</td>\n",
       "      <td>100</td>\n",
       "      <td>8.4</td>\n",
       "      <td>11</td>\n",
       "      <td>11</td>\n",
       "      <td>0</td>\n",
       "      <td>100</td>\n",
       "      <td>4.4</td>\n",
       "      <td>172072</td>\n",
       "      <td>97</td>\n",
       "      <td>http://content9.flixster.com/movie/11/12/76/11...</td>\n",
       "    </tr>\n",
       "    <tr>\n",
       "      <th>1102</th>\n",
       "      <td>1214</td>\n",
       "      <td>Alien</td>\n",
       "      <td>78748</td>\n",
       "      <td>Alien - El octavo pasajero</td>\n",
       "      <td>http://ia.media-imdb.com/images/M/MV5BMTgzMDk3...</td>\n",
       "      <td>1979</td>\n",
       "      <td>american-alien</td>\n",
       "      <td>0</td>\n",
       "      <td>0</td>\n",
       "      <td>0</td>\n",
       "      <td>...</td>\n",
       "      <td>0</td>\n",
       "      <td>0</td>\n",
       "      <td>0</td>\n",
       "      <td>0</td>\n",
       "      <td>0</td>\n",
       "      <td>0</td>\n",
       "      <td>0</td>\n",
       "      <td>0</td>\n",
       "      <td>0</td>\n",
       "      <td>http://content7.flixster.com/movie/10/87/47/10...</td>\n",
       "    </tr>\n",
       "    <tr>\n",
       "      <th>2350</th>\n",
       "      <td>2571</td>\n",
       "      <td>The Matrix</td>\n",
       "      <td>133093</td>\n",
       "      <td>Matrix</td>\n",
       "      <td>http://ia.media-imdb.com/images/M/MV5BMjEzNjg1...</td>\n",
       "      <td>1999</td>\n",
       "      <td>matrix</td>\n",
       "      <td>7.4</td>\n",
       "      <td>125</td>\n",
       "      <td>108</td>\n",
       "      <td>...</td>\n",
       "      <td>86</td>\n",
       "      <td>6.2</td>\n",
       "      <td>28</td>\n",
       "      <td>19</td>\n",
       "      <td>9</td>\n",
       "      <td>67</td>\n",
       "      <td>3.6</td>\n",
       "      <td>207333</td>\n",
       "      <td>81</td>\n",
       "      <td>http://content7.flixster.com/movie/16/90/52/16...</td>\n",
       "    </tr>\n",
       "    <tr>\n",
       "      <th>8048</th>\n",
       "      <td>25934</td>\n",
       "      <td>The Godfather</td>\n",
       "      <td>68646</td>\n",
       "      <td>El padrino</td>\n",
       "      <td>http://ia.media-imdb.com/images/M/MV5BMTc3MDQz...</td>\n",
       "      <td>1972</td>\n",
       "      <td>godfather</td>\n",
       "      <td>9</td>\n",
       "      <td>66</td>\n",
       "      <td>66</td>\n",
       "      <td>...</td>\n",
       "      <td>100</td>\n",
       "      <td>8.4</td>\n",
       "      <td>11</td>\n",
       "      <td>11</td>\n",
       "      <td>0</td>\n",
       "      <td>100</td>\n",
       "      <td>4.4</td>\n",
       "      <td>172072</td>\n",
       "      <td>97</td>\n",
       "      <td>http://content9.flixster.com/movie/11/12/76/11...</td>\n",
       "    </tr>\n",
       "  </tbody>\n",
       "</table>\n",
       "<p>4 rows × 21 columns</p>\n",
       "</div>"
      ],
      "text/plain": [
       "         id          title  imdbID                spanishTitle  \\\n",
       "787     858  The Godfather   68646                  El padrino   \n",
       "1102   1214          Alien   78748  Alien - El octavo pasajero   \n",
       "2350   2571     The Matrix  133093                      Matrix   \n",
       "8048  25934  The Godfather   68646                  El padrino   \n",
       "\n",
       "                                         imdbPictureURL  year            rtID  \\\n",
       "787   http://ia.media-imdb.com/images/M/MV5BMTc3MDQz...  1972       godfather   \n",
       "1102  http://ia.media-imdb.com/images/M/MV5BMTgzMDk3...  1979  american-alien   \n",
       "2350  http://ia.media-imdb.com/images/M/MV5BMjEzNjg1...  1999          matrix   \n",
       "8048  http://ia.media-imdb.com/images/M/MV5BMTc3MDQz...  1972       godfather   \n",
       "\n",
       "     rtAllCriticsRating rtAllCriticsNumReviews rtAllCriticsNumFresh  ...  \\\n",
       "787                   9                     66                   66  ...   \n",
       "1102                  0                      0                    0  ...   \n",
       "2350                7.4                    125                  108  ...   \n",
       "8048                  9                     66                   66  ...   \n",
       "\n",
       "     rtAllCriticsScore rtTopCriticsRating rtTopCriticsNumReviews  \\\n",
       "787                100                8.4                     11   \n",
       "1102                 0                  0                      0   \n",
       "2350                86                6.2                     28   \n",
       "8048               100                8.4                     11   \n",
       "\n",
       "     rtTopCriticsNumFresh rtTopCriticsNumRotten rtTopCriticsScore  \\\n",
       "787                    11                     0               100   \n",
       "1102                    0                     0                 0   \n",
       "2350                   19                     9                67   \n",
       "8048                   11                     0               100   \n",
       "\n",
       "     rtAudienceRating rtAudienceNumRatings rtAudienceScore  \\\n",
       "787               4.4               172072              97   \n",
       "1102                0                    0               0   \n",
       "2350              3.6               207333              81   \n",
       "8048              4.4               172072              97   \n",
       "\n",
       "                                           rtPictureURL  \n",
       "787   http://content9.flixster.com/movie/11/12/76/11...  \n",
       "1102  http://content7.flixster.com/movie/10/87/47/10...  \n",
       "2350  http://content7.flixster.com/movie/16/90/52/16...  \n",
       "8048  http://content9.flixster.com/movie/11/12/76/11...  \n",
       "\n",
       "[4 rows x 21 columns]"
      ]
     },
     "execution_count": 123,
     "metadata": {},
     "output_type": "execute_result"
    }
   ],
   "source": [
    "df_movies.loc[df_movies['id'] .isin ([2571, 1214, 858, 25934])]"
   ]
  },
  {
   "cell_type": "code",
   "execution_count": 124,
   "id": "5e4a397f-55fa-4d08-961b-7a1ba238e7c1",
   "metadata": {},
   "outputs": [
    {
     "data": {
      "text/plain": [
       "3.9579395085066165"
      ]
     },
     "execution_count": 124,
     "metadata": {},
     "output_type": "execute_result"
    }
   ],
   "source": [
    "#Obtain the ratings of 'Alien':\n",
    "r_Alien=df_user_ratedmovies_timestamps.loc[df_user_ratedmovies_timestamps['movieID']==1214, 'rating'].mean()\n",
    "r_Alien"
   ]
  },
  {
   "cell_type": "code",
   "execution_count": 125,
   "id": "d0920acd-33aa-45c1-ab80-63895067d3a6",
   "metadata": {},
   "outputs": [
    {
     "data": {
      "text/plain": [
       "4.334507042253521"
      ]
     },
     "execution_count": 125,
     "metadata": {},
     "output_type": "execute_result"
    }
   ],
   "source": [
    "#Obtain the ratings of 'The Godfather':\n",
    "r_Godfather=df_user_ratedmovies_timestamps.loc[df_user_ratedmovies_timestamps['movieID'].isin([25934,858]), 'rating'].mean()\n",
    "r_Godfather"
   ]
  },
  {
   "cell_type": "code",
   "execution_count": 126,
   "id": "e969fced-9cb8-4228-939c-4951ef12abf0",
   "metadata": {},
   "outputs": [
    {
     "data": {
      "text/plain": [
       "4.173952095808383"
      ]
     },
     "execution_count": 126,
     "metadata": {},
     "output_type": "execute_result"
    }
   ],
   "source": [
    "#Obtain the ratings of 'The Matrix':\n",
    "r_Matrix=df_user_ratedmovies_timestamps.loc[df_user_ratedmovies_timestamps['movieID']==2571, 'rating'].mean()\n",
    "r_Matrix"
   ]
  },
  {
   "cell_type": "code",
   "execution_count": 127,
   "id": "17cc67ce-80c5-4f26-9e71-66000f0ce1d2",
   "metadata": {},
   "outputs": [
    {
     "data": {
      "text/plain": [
       "array([   78,   175,   190, ..., 71509, 71525, 71534], dtype=int64)"
      ]
     },
     "execution_count": 127,
     "metadata": {},
     "output_type": "execute_result"
    }
   ],
   "source": [
    "# Obtain the users rated 'The Godfather'\n",
    "\n",
    "user_Godfather =df_user_ratedmovies_timestamps.loc[df_user_ratedmovies_timestamps['movieID'].isin([25934,858]), 'userID'].values\n",
    "\n",
    "user_Godfather"
   ]
  },
  {
   "cell_type": "code",
   "execution_count": 128,
   "id": "05945081-4411-4c55-994a-ae81966bf066",
   "metadata": {},
   "outputs": [
    {
     "data": {
      "text/plain": [
       "array([   78,   175,   190, ..., 71483, 71497, 71525], dtype=int64)"
      ]
     },
     "execution_count": 128,
     "metadata": {},
     "output_type": "execute_result"
    }
   ],
   "source": [
    "# Obtain the users who rated 'Alien'\n",
    "\n",
    "user_Alien =df_user_ratedmovies_timestamps.loc[df_user_ratedmovies_timestamps['movieID']==1214, 'userID'].values\n",
    "\n",
    "user_Alien"
   ]
  },
  {
   "cell_type": "code",
   "execution_count": 129,
   "id": "a0f999ba-949e-4ed5-8f96-88c7d417ffe7",
   "metadata": {},
   "outputs": [
    {
     "data": {
      "text/plain": [
       "array([   75,    78,   170, ..., 71525, 71529, 71534], dtype=int64)"
      ]
     },
     "execution_count": 129,
     "metadata": {},
     "output_type": "execute_result"
    }
   ],
   "source": [
    "# Obtain the users who rated 'The Matrix'\n",
    "\n",
    "user_Matrix =df_user_ratedmovies_timestamps.loc[df_user_ratedmovies_timestamps['movieID']==2571, 'userID'].values\n",
    "\n",
    "user_Matrix"
   ]
  },
  {
   "cell_type": "code",
   "execution_count": 130,
   "id": "87bc9de0-24df-4c39-871e-8ac42ad776e7",
   "metadata": {},
   "outputs": [
    {
     "data": {
      "text/plain": [
       "array([   75,    78,   170, ..., 71525, 71529, 71534], dtype=int64)"
      ]
     },
     "execution_count": 130,
     "metadata": {},
     "output_type": "execute_result"
    }
   ],
   "source": [
    "# Obtain the users who rated the previous movies\n",
    "\n",
    "distinct_users =df_user_ratedmovies_timestamps.loc[df_user_ratedmovies_timestamps['movieID'].isin([2571, 1214, 858, 25934]), 'userID'].unique()\n",
    "\n",
    "distinct_users\n"
   ]
  },
  {
   "cell_type": "code",
   "execution_count": 131,
   "id": "e347ab5b-3b70-42a3-ab60-94de39c34bd0",
   "metadata": {},
   "outputs": [
    {
     "data": {
      "text/html": [
       "<div>\n",
       "<style scoped>\n",
       "    .dataframe tbody tr th:only-of-type {\n",
       "        vertical-align: middle;\n",
       "    }\n",
       "\n",
       "    .dataframe tbody tr th {\n",
       "        vertical-align: top;\n",
       "    }\n",
       "\n",
       "    .dataframe thead th {\n",
       "        text-align: right;\n",
       "    }\n",
       "</style>\n",
       "<table border=\"1\" class=\"dataframe\">\n",
       "  <thead>\n",
       "    <tr style=\"text-align: right;\">\n",
       "      <th></th>\n",
       "      <th>userID</th>\n",
       "      <th>movieID</th>\n",
       "      <th>rating</th>\n",
       "      <th>timestamp</th>\n",
       "    </tr>\n",
       "  </thead>\n",
       "  <tbody>\n",
       "    <tr>\n",
       "      <th>29</th>\n",
       "      <td>75</td>\n",
       "      <td>2571</td>\n",
       "      <td>4.5</td>\n",
       "      <td>1162161050000</td>\n",
       "    </tr>\n",
       "    <tr>\n",
       "      <th>98</th>\n",
       "      <td>78</td>\n",
       "      <td>858</td>\n",
       "      <td>4.0</td>\n",
       "      <td>1089332870000</td>\n",
       "    </tr>\n",
       "    <tr>\n",
       "      <th>149</th>\n",
       "      <td>78</td>\n",
       "      <td>1214</td>\n",
       "      <td>5.0</td>\n",
       "      <td>1083963994000</td>\n",
       "    </tr>\n",
       "    <tr>\n",
       "      <th>286</th>\n",
       "      <td>78</td>\n",
       "      <td>2571</td>\n",
       "      <td>5.0</td>\n",
       "      <td>1083964044000</td>\n",
       "    </tr>\n",
       "    <tr>\n",
       "      <th>612</th>\n",
       "      <td>170</td>\n",
       "      <td>2571</td>\n",
       "      <td>3.5</td>\n",
       "      <td>1162208300000</td>\n",
       "    </tr>\n",
       "    <tr>\n",
       "      <th>...</th>\n",
       "      <td>...</td>\n",
       "      <td>...</td>\n",
       "      <td>...</td>\n",
       "      <td>...</td>\n",
       "    </tr>\n",
       "    <tr>\n",
       "      <th>854959</th>\n",
       "      <td>71525</td>\n",
       "      <td>1214</td>\n",
       "      <td>5.0</td>\n",
       "      <td>1045440408000</td>\n",
       "    </tr>\n",
       "    <tr>\n",
       "      <th>855027</th>\n",
       "      <td>71525</td>\n",
       "      <td>2571</td>\n",
       "      <td>5.0</td>\n",
       "      <td>1001839814000</td>\n",
       "    </tr>\n",
       "    <tr>\n",
       "      <th>855396</th>\n",
       "      <td>71529</td>\n",
       "      <td>2571</td>\n",
       "      <td>2.5</td>\n",
       "      <td>1162098860000</td>\n",
       "    </tr>\n",
       "    <tr>\n",
       "      <th>855461</th>\n",
       "      <td>71534</td>\n",
       "      <td>858</td>\n",
       "      <td>5.0</td>\n",
       "      <td>1196645187000</td>\n",
       "    </tr>\n",
       "    <tr>\n",
       "      <th>855544</th>\n",
       "      <td>71534</td>\n",
       "      <td>2571</td>\n",
       "      <td>4.5</td>\n",
       "      <td>1196645172000</td>\n",
       "    </tr>\n",
       "  </tbody>\n",
       "</table>\n",
       "<p>3864 rows × 4 columns</p>\n",
       "</div>"
      ],
      "text/plain": [
       "        userID  movieID  rating      timestamp\n",
       "29          75     2571     4.5  1162161050000\n",
       "98          78      858     4.0  1089332870000\n",
       "149         78     1214     5.0  1083963994000\n",
       "286         78     2571     5.0  1083964044000\n",
       "612        170     2571     3.5  1162208300000\n",
       "...        ...      ...     ...            ...\n",
       "854959   71525     1214     5.0  1045440408000\n",
       "855027   71525     2571     5.0  1001839814000\n",
       "855396   71529     2571     2.5  1162098860000\n",
       "855461   71534      858     5.0  1196645187000\n",
       "855544   71534     2571     4.5  1196645172000\n",
       "\n",
       "[3864 rows x 4 columns]"
      ]
     },
     "execution_count": 131,
     "metadata": {},
     "output_type": "execute_result"
    }
   ],
   "source": [
    "# Create a sparse matrix -- This matrix will include each item as a row, and the users will be the columns\n",
    "# The value of each cell of the matrix will be filled with the user rating for each movie\n",
    "\n",
    "df_mov= df_user_ratedmovies_timestamps.loc[df_user_ratedmovies_timestamps['movieID'].isin([2571, 1214, 858, 25934]), :]\n",
    "df_mov"
   ]
  },
  {
   "cell_type": "code",
   "execution_count": 132,
   "id": "e100f787-c724-4b99-a7b8-f5b7ab37becb",
   "metadata": {},
   "outputs": [
    {
     "data": {
      "text/html": [
       "<div>\n",
       "<style scoped>\n",
       "    .dataframe tbody tr th:only-of-type {\n",
       "        vertical-align: middle;\n",
       "    }\n",
       "\n",
       "    .dataframe tbody tr th {\n",
       "        vertical-align: top;\n",
       "    }\n",
       "\n",
       "    .dataframe thead th {\n",
       "        text-align: right;\n",
       "    }\n",
       "</style>\n",
       "<table border=\"1\" class=\"dataframe\">\n",
       "  <thead>\n",
       "    <tr style=\"text-align: right;\">\n",
       "      <th>userID</th>\n",
       "      <th>75</th>\n",
       "      <th>78</th>\n",
       "      <th>170</th>\n",
       "      <th>175</th>\n",
       "      <th>190</th>\n",
       "      <th>267</th>\n",
       "      <th>325</th>\n",
       "      <th>383</th>\n",
       "      <th>476</th>\n",
       "      <th>477</th>\n",
       "      <th>...</th>\n",
       "      <th>71331</th>\n",
       "      <th>71420</th>\n",
       "      <th>71478</th>\n",
       "      <th>71483</th>\n",
       "      <th>71487</th>\n",
       "      <th>71497</th>\n",
       "      <th>71509</th>\n",
       "      <th>71525</th>\n",
       "      <th>71529</th>\n",
       "      <th>71534</th>\n",
       "    </tr>\n",
       "    <tr>\n",
       "      <th>movieID</th>\n",
       "      <th></th>\n",
       "      <th></th>\n",
       "      <th></th>\n",
       "      <th></th>\n",
       "      <th></th>\n",
       "      <th></th>\n",
       "      <th></th>\n",
       "      <th></th>\n",
       "      <th></th>\n",
       "      <th></th>\n",
       "      <th></th>\n",
       "      <th></th>\n",
       "      <th></th>\n",
       "      <th></th>\n",
       "      <th></th>\n",
       "      <th></th>\n",
       "      <th></th>\n",
       "      <th></th>\n",
       "      <th></th>\n",
       "      <th></th>\n",
       "      <th></th>\n",
       "    </tr>\n",
       "  </thead>\n",
       "  <tbody>\n",
       "    <tr>\n",
       "      <th>858</th>\n",
       "      <td>NaN</td>\n",
       "      <td>4.0</td>\n",
       "      <td>NaN</td>\n",
       "      <td>5.0</td>\n",
       "      <td>1.0</td>\n",
       "      <td>2.5</td>\n",
       "      <td>5.0</td>\n",
       "      <td>4.0</td>\n",
       "      <td>NaN</td>\n",
       "      <td>5.0</td>\n",
       "      <td>...</td>\n",
       "      <td>NaN</td>\n",
       "      <td>4.0</td>\n",
       "      <td>5.0</td>\n",
       "      <td>5.0</td>\n",
       "      <td>5.0</td>\n",
       "      <td>5.0</td>\n",
       "      <td>5.0</td>\n",
       "      <td>5.0</td>\n",
       "      <td>NaN</td>\n",
       "      <td>5.0</td>\n",
       "    </tr>\n",
       "    <tr>\n",
       "      <th>1214</th>\n",
       "      <td>NaN</td>\n",
       "      <td>5.0</td>\n",
       "      <td>NaN</td>\n",
       "      <td>5.0</td>\n",
       "      <td>3.5</td>\n",
       "      <td>4.0</td>\n",
       "      <td>5.0</td>\n",
       "      <td>4.0</td>\n",
       "      <td>4.5</td>\n",
       "      <td>4.5</td>\n",
       "      <td>...</td>\n",
       "      <td>NaN</td>\n",
       "      <td>3.0</td>\n",
       "      <td>NaN</td>\n",
       "      <td>4.0</td>\n",
       "      <td>NaN</td>\n",
       "      <td>4.0</td>\n",
       "      <td>NaN</td>\n",
       "      <td>5.0</td>\n",
       "      <td>NaN</td>\n",
       "      <td>NaN</td>\n",
       "    </tr>\n",
       "    <tr>\n",
       "      <th>2571</th>\n",
       "      <td>4.5</td>\n",
       "      <td>5.0</td>\n",
       "      <td>3.5</td>\n",
       "      <td>5.0</td>\n",
       "      <td>5.0</td>\n",
       "      <td>4.0</td>\n",
       "      <td>NaN</td>\n",
       "      <td>4.0</td>\n",
       "      <td>4.5</td>\n",
       "      <td>4.5</td>\n",
       "      <td>...</td>\n",
       "      <td>5.0</td>\n",
       "      <td>5.0</td>\n",
       "      <td>NaN</td>\n",
       "      <td>4.0</td>\n",
       "      <td>5.0</td>\n",
       "      <td>5.0</td>\n",
       "      <td>3.5</td>\n",
       "      <td>5.0</td>\n",
       "      <td>2.5</td>\n",
       "      <td>4.5</td>\n",
       "    </tr>\n",
       "    <tr>\n",
       "      <th>25934</th>\n",
       "      <td>NaN</td>\n",
       "      <td>NaN</td>\n",
       "      <td>NaN</td>\n",
       "      <td>NaN</td>\n",
       "      <td>NaN</td>\n",
       "      <td>NaN</td>\n",
       "      <td>NaN</td>\n",
       "      <td>NaN</td>\n",
       "      <td>NaN</td>\n",
       "      <td>NaN</td>\n",
       "      <td>...</td>\n",
       "      <td>NaN</td>\n",
       "      <td>NaN</td>\n",
       "      <td>NaN</td>\n",
       "      <td>NaN</td>\n",
       "      <td>NaN</td>\n",
       "      <td>NaN</td>\n",
       "      <td>NaN</td>\n",
       "      <td>NaN</td>\n",
       "      <td>NaN</td>\n",
       "      <td>NaN</td>\n",
       "    </tr>\n",
       "  </tbody>\n",
       "</table>\n",
       "<p>4 rows × 1822 columns</p>\n",
       "</div>"
      ],
      "text/plain": [
       "userID   75     78     170    175    190    267    325    383    476    477    \\\n",
       "movieID                                                                         \n",
       "858        NaN    4.0    NaN    5.0    1.0    2.5    5.0    4.0    NaN    5.0   \n",
       "1214       NaN    5.0    NaN    5.0    3.5    4.0    5.0    4.0    4.5    4.5   \n",
       "2571       4.5    5.0    3.5    5.0    5.0    4.0    NaN    4.0    4.5    4.5   \n",
       "25934      NaN    NaN    NaN    NaN    NaN    NaN    NaN    NaN    NaN    NaN   \n",
       "\n",
       "userID   ...  71331  71420  71478  71483  71487  71497  71509  71525  71529  \\\n",
       "movieID  ...                                                                  \n",
       "858      ...    NaN    4.0    5.0    5.0    5.0    5.0    5.0    5.0    NaN   \n",
       "1214     ...    NaN    3.0    NaN    4.0    NaN    4.0    NaN    5.0    NaN   \n",
       "2571     ...    5.0    5.0    NaN    4.0    5.0    5.0    3.5    5.0    2.5   \n",
       "25934    ...    NaN    NaN    NaN    NaN    NaN    NaN    NaN    NaN    NaN   \n",
       "\n",
       "userID   71534  \n",
       "movieID         \n",
       "858        5.0  \n",
       "1214       NaN  \n",
       "2571       4.5  \n",
       "25934      NaN  \n",
       "\n",
       "[4 rows x 1822 columns]"
      ]
     },
     "execution_count": 132,
     "metadata": {},
     "output_type": "execute_result"
    }
   ],
   "source": [
    "matrix = df_mov.pivot(index='movieID', columns='userID', values='rating')\n",
    "\n",
    "matrix"
   ]
  },
  {
   "cell_type": "code",
   "execution_count": 133,
   "id": "974f8907-e697-4319-948d-d9de2afe5958",
   "metadata": {},
   "outputs": [
    {
     "data": {
      "text/plain": [
       "NaN    1820\n",
       "3.5       1\n",
       "4.5       1\n",
       "Name: 25934, dtype: int64"
      ]
     },
     "execution_count": 133,
     "metadata": {},
     "output_type": "execute_result"
    }
   ],
   "source": [
    "# Since both 25934 and 858 are the movieId of the same movie: \"The godfather\"\n",
    "# I want to merge them, first see what is in the movieId==25934, because it seems more sparse than the other one.\n",
    "\n",
    "matrix.loc[25934].value_counts(dropna=False)"
   ]
  },
  {
   "cell_type": "code",
   "execution_count": 134,
   "id": "11ff2333-c4fa-48d9-bd2f-08566b9e2035",
   "metadata": {},
   "outputs": [
    {
     "data": {
      "text/plain": [
       "Int64Index([51033, 52983], dtype='int64', name='userID')"
      ]
     },
     "execution_count": 134,
     "metadata": {},
     "output_type": "execute_result"
    }
   ],
   "source": [
    "# Now, we can transfer these two values to the movieId==858 (If they are not already full) and delete the movieId==25934 row.\n",
    "\n",
    "filt=matrix.loc[25934].notna()\n",
    "matrix.columns[filt]"
   ]
  },
  {
   "cell_type": "code",
   "execution_count": 135,
   "id": "fd5f231a-c711-4f22-9ab2-0d6b7622ea63",
   "metadata": {},
   "outputs": [
    {
     "data": {
      "text/plain": [
       "userID\n",
       "51033    4.0\n",
       "52983    5.0\n",
       "Name: 858, dtype: float64"
      ]
     },
     "execution_count": 135,
     "metadata": {},
     "output_type": "execute_result"
    }
   ],
   "source": [
    "matrix.loc[858, [51033, 52983]]"
   ]
  },
  {
   "cell_type": "code",
   "execution_count": 136,
   "id": "b5439fb6-0074-4373-a93c-3232f2a3e74f",
   "metadata": {},
   "outputs": [],
   "source": [
    "# I deleted the row movieId==25934\n",
    "\n",
    "matrix= matrix.drop(25934, axis=0)"
   ]
  },
  {
   "cell_type": "code",
   "execution_count": 137,
   "id": "5f340a4c-647b-4c73-9b8f-edd6f511eacc",
   "metadata": {},
   "outputs": [
    {
     "data": {
      "text/html": [
       "<div>\n",
       "<style scoped>\n",
       "    .dataframe tbody tr th:only-of-type {\n",
       "        vertical-align: middle;\n",
       "    }\n",
       "\n",
       "    .dataframe tbody tr th {\n",
       "        vertical-align: top;\n",
       "    }\n",
       "\n",
       "    .dataframe thead th {\n",
       "        text-align: right;\n",
       "    }\n",
       "</style>\n",
       "<table border=\"1\" class=\"dataframe\">\n",
       "  <thead>\n",
       "    <tr style=\"text-align: right;\">\n",
       "      <th>userID</th>\n",
       "      <th>75</th>\n",
       "      <th>78</th>\n",
       "      <th>170</th>\n",
       "      <th>175</th>\n",
       "      <th>190</th>\n",
       "      <th>267</th>\n",
       "      <th>325</th>\n",
       "      <th>383</th>\n",
       "      <th>476</th>\n",
       "      <th>477</th>\n",
       "      <th>...</th>\n",
       "      <th>71331</th>\n",
       "      <th>71420</th>\n",
       "      <th>71478</th>\n",
       "      <th>71483</th>\n",
       "      <th>71487</th>\n",
       "      <th>71497</th>\n",
       "      <th>71509</th>\n",
       "      <th>71525</th>\n",
       "      <th>71529</th>\n",
       "      <th>71534</th>\n",
       "    </tr>\n",
       "    <tr>\n",
       "      <th>movieID</th>\n",
       "      <th></th>\n",
       "      <th></th>\n",
       "      <th></th>\n",
       "      <th></th>\n",
       "      <th></th>\n",
       "      <th></th>\n",
       "      <th></th>\n",
       "      <th></th>\n",
       "      <th></th>\n",
       "      <th></th>\n",
       "      <th></th>\n",
       "      <th></th>\n",
       "      <th></th>\n",
       "      <th></th>\n",
       "      <th></th>\n",
       "      <th></th>\n",
       "      <th></th>\n",
       "      <th></th>\n",
       "      <th></th>\n",
       "      <th></th>\n",
       "      <th></th>\n",
       "    </tr>\n",
       "  </thead>\n",
       "  <tbody>\n",
       "    <tr>\n",
       "      <th>858</th>\n",
       "      <td>NaN</td>\n",
       "      <td>4.0</td>\n",
       "      <td>NaN</td>\n",
       "      <td>5.0</td>\n",
       "      <td>1.0</td>\n",
       "      <td>2.5</td>\n",
       "      <td>5.0</td>\n",
       "      <td>4.0</td>\n",
       "      <td>NaN</td>\n",
       "      <td>5.0</td>\n",
       "      <td>...</td>\n",
       "      <td>NaN</td>\n",
       "      <td>4.0</td>\n",
       "      <td>5.0</td>\n",
       "      <td>5.0</td>\n",
       "      <td>5.0</td>\n",
       "      <td>5.0</td>\n",
       "      <td>5.0</td>\n",
       "      <td>5.0</td>\n",
       "      <td>NaN</td>\n",
       "      <td>5.0</td>\n",
       "    </tr>\n",
       "    <tr>\n",
       "      <th>1214</th>\n",
       "      <td>NaN</td>\n",
       "      <td>5.0</td>\n",
       "      <td>NaN</td>\n",
       "      <td>5.0</td>\n",
       "      <td>3.5</td>\n",
       "      <td>4.0</td>\n",
       "      <td>5.0</td>\n",
       "      <td>4.0</td>\n",
       "      <td>4.5</td>\n",
       "      <td>4.5</td>\n",
       "      <td>...</td>\n",
       "      <td>NaN</td>\n",
       "      <td>3.0</td>\n",
       "      <td>NaN</td>\n",
       "      <td>4.0</td>\n",
       "      <td>NaN</td>\n",
       "      <td>4.0</td>\n",
       "      <td>NaN</td>\n",
       "      <td>5.0</td>\n",
       "      <td>NaN</td>\n",
       "      <td>NaN</td>\n",
       "    </tr>\n",
       "    <tr>\n",
       "      <th>2571</th>\n",
       "      <td>4.5</td>\n",
       "      <td>5.0</td>\n",
       "      <td>3.5</td>\n",
       "      <td>5.0</td>\n",
       "      <td>5.0</td>\n",
       "      <td>4.0</td>\n",
       "      <td>NaN</td>\n",
       "      <td>4.0</td>\n",
       "      <td>4.5</td>\n",
       "      <td>4.5</td>\n",
       "      <td>...</td>\n",
       "      <td>5.0</td>\n",
       "      <td>5.0</td>\n",
       "      <td>NaN</td>\n",
       "      <td>4.0</td>\n",
       "      <td>5.0</td>\n",
       "      <td>5.0</td>\n",
       "      <td>3.5</td>\n",
       "      <td>5.0</td>\n",
       "      <td>2.5</td>\n",
       "      <td>4.5</td>\n",
       "    </tr>\n",
       "  </tbody>\n",
       "</table>\n",
       "<p>3 rows × 1822 columns</p>\n",
       "</div>"
      ],
      "text/plain": [
       "userID   75     78     170    175    190    267    325    383    476    477    \\\n",
       "movieID                                                                         \n",
       "858        NaN    4.0    NaN    5.0    1.0    2.5    5.0    4.0    NaN    5.0   \n",
       "1214       NaN    5.0    NaN    5.0    3.5    4.0    5.0    4.0    4.5    4.5   \n",
       "2571       4.5    5.0    3.5    5.0    5.0    4.0    NaN    4.0    4.5    4.5   \n",
       "\n",
       "userID   ...  71331  71420  71478  71483  71487  71497  71509  71525  71529  \\\n",
       "movieID  ...                                                                  \n",
       "858      ...    NaN    4.0    5.0    5.0    5.0    5.0    5.0    5.0    NaN   \n",
       "1214     ...    NaN    3.0    NaN    4.0    NaN    4.0    NaN    5.0    NaN   \n",
       "2571     ...    5.0    5.0    NaN    4.0    5.0    5.0    3.5    5.0    2.5   \n",
       "\n",
       "userID   71534  \n",
       "movieID         \n",
       "858        5.0  \n",
       "1214       NaN  \n",
       "2571       4.5  \n",
       "\n",
       "[3 rows x 1822 columns]"
      ]
     },
     "execution_count": 137,
     "metadata": {},
     "output_type": "execute_result"
    }
   ],
   "source": [
    "matrix"
   ]
  },
  {
   "cell_type": "code",
   "execution_count": 138,
   "id": "ecc340c6-2ff0-4973-ac62-18661ae78a91",
   "metadata": {},
   "outputs": [],
   "source": [
    "matrix_zero = matrix.copy()"
   ]
  },
  {
   "cell_type": "code",
   "execution_count": 139,
   "id": "68bb9e5e-73b4-440d-b7fd-b7108115da3c",
   "metadata": {},
   "outputs": [
    {
     "data": {
      "text/html": [
       "<div>\n",
       "<style scoped>\n",
       "    .dataframe tbody tr th:only-of-type {\n",
       "        vertical-align: middle;\n",
       "    }\n",
       "\n",
       "    .dataframe tbody tr th {\n",
       "        vertical-align: top;\n",
       "    }\n",
       "\n",
       "    .dataframe thead th {\n",
       "        text-align: right;\n",
       "    }\n",
       "</style>\n",
       "<table border=\"1\" class=\"dataframe\">\n",
       "  <thead>\n",
       "    <tr style=\"text-align: right;\">\n",
       "      <th>userID</th>\n",
       "      <th>75</th>\n",
       "      <th>78</th>\n",
       "      <th>170</th>\n",
       "      <th>175</th>\n",
       "      <th>190</th>\n",
       "      <th>267</th>\n",
       "      <th>325</th>\n",
       "      <th>383</th>\n",
       "      <th>476</th>\n",
       "      <th>477</th>\n",
       "      <th>...</th>\n",
       "      <th>71331</th>\n",
       "      <th>71420</th>\n",
       "      <th>71478</th>\n",
       "      <th>71483</th>\n",
       "      <th>71487</th>\n",
       "      <th>71497</th>\n",
       "      <th>71509</th>\n",
       "      <th>71525</th>\n",
       "      <th>71529</th>\n",
       "      <th>71534</th>\n",
       "    </tr>\n",
       "    <tr>\n",
       "      <th>movieID</th>\n",
       "      <th></th>\n",
       "      <th></th>\n",
       "      <th></th>\n",
       "      <th></th>\n",
       "      <th></th>\n",
       "      <th></th>\n",
       "      <th></th>\n",
       "      <th></th>\n",
       "      <th></th>\n",
       "      <th></th>\n",
       "      <th></th>\n",
       "      <th></th>\n",
       "      <th></th>\n",
       "      <th></th>\n",
       "      <th></th>\n",
       "      <th></th>\n",
       "      <th></th>\n",
       "      <th></th>\n",
       "      <th></th>\n",
       "      <th></th>\n",
       "      <th></th>\n",
       "    </tr>\n",
       "  </thead>\n",
       "  <tbody>\n",
       "    <tr>\n",
       "      <th>858</th>\n",
       "      <td>NaN</td>\n",
       "      <td>4.0</td>\n",
       "      <td>NaN</td>\n",
       "      <td>5.0</td>\n",
       "      <td>1.0</td>\n",
       "      <td>2.5</td>\n",
       "      <td>5.0</td>\n",
       "      <td>4.0</td>\n",
       "      <td>NaN</td>\n",
       "      <td>5.0</td>\n",
       "      <td>...</td>\n",
       "      <td>NaN</td>\n",
       "      <td>4.0</td>\n",
       "      <td>5.0</td>\n",
       "      <td>5.0</td>\n",
       "      <td>5.0</td>\n",
       "      <td>5.0</td>\n",
       "      <td>5.0</td>\n",
       "      <td>5.0</td>\n",
       "      <td>NaN</td>\n",
       "      <td>5.0</td>\n",
       "    </tr>\n",
       "    <tr>\n",
       "      <th>1214</th>\n",
       "      <td>NaN</td>\n",
       "      <td>5.0</td>\n",
       "      <td>NaN</td>\n",
       "      <td>5.0</td>\n",
       "      <td>3.5</td>\n",
       "      <td>4.0</td>\n",
       "      <td>5.0</td>\n",
       "      <td>4.0</td>\n",
       "      <td>4.5</td>\n",
       "      <td>4.5</td>\n",
       "      <td>...</td>\n",
       "      <td>NaN</td>\n",
       "      <td>3.0</td>\n",
       "      <td>NaN</td>\n",
       "      <td>4.0</td>\n",
       "      <td>NaN</td>\n",
       "      <td>4.0</td>\n",
       "      <td>NaN</td>\n",
       "      <td>5.0</td>\n",
       "      <td>NaN</td>\n",
       "      <td>NaN</td>\n",
       "    </tr>\n",
       "    <tr>\n",
       "      <th>2571</th>\n",
       "      <td>4.5</td>\n",
       "      <td>5.0</td>\n",
       "      <td>3.5</td>\n",
       "      <td>5.0</td>\n",
       "      <td>5.0</td>\n",
       "      <td>4.0</td>\n",
       "      <td>NaN</td>\n",
       "      <td>4.0</td>\n",
       "      <td>4.5</td>\n",
       "      <td>4.5</td>\n",
       "      <td>...</td>\n",
       "      <td>5.0</td>\n",
       "      <td>5.0</td>\n",
       "      <td>NaN</td>\n",
       "      <td>4.0</td>\n",
       "      <td>5.0</td>\n",
       "      <td>5.0</td>\n",
       "      <td>3.5</td>\n",
       "      <td>5.0</td>\n",
       "      <td>2.5</td>\n",
       "      <td>4.5</td>\n",
       "    </tr>\n",
       "  </tbody>\n",
       "</table>\n",
       "<p>3 rows × 1822 columns</p>\n",
       "</div>"
      ],
      "text/plain": [
       "userID   75     78     170    175    190    267    325    383    476    477    \\\n",
       "movieID                                                                         \n",
       "858        NaN    4.0    NaN    5.0    1.0    2.5    5.0    4.0    NaN    5.0   \n",
       "1214       NaN    5.0    NaN    5.0    3.5    4.0    5.0    4.0    4.5    4.5   \n",
       "2571       4.5    5.0    3.5    5.0    5.0    4.0    NaN    4.0    4.5    4.5   \n",
       "\n",
       "userID   ...  71331  71420  71478  71483  71487  71497  71509  71525  71529  \\\n",
       "movieID  ...                                                                  \n",
       "858      ...    NaN    4.0    5.0    5.0    5.0    5.0    5.0    5.0    NaN   \n",
       "1214     ...    NaN    3.0    NaN    4.0    NaN    4.0    NaN    5.0    NaN   \n",
       "2571     ...    5.0    5.0    NaN    4.0    5.0    5.0    3.5    5.0    2.5   \n",
       "\n",
       "userID   71534  \n",
       "movieID         \n",
       "858        5.0  \n",
       "1214       NaN  \n",
       "2571       4.5  \n",
       "\n",
       "[3 rows x 1822 columns]"
      ]
     },
     "execution_count": 139,
     "metadata": {},
     "output_type": "execute_result"
    }
   ],
   "source": [
    "matrix_zero"
   ]
  },
  {
   "cell_type": "code",
   "execution_count": 140,
   "id": "edbb5cd4-29ed-4995-b8f2-342ed13dab77",
   "metadata": {},
   "outputs": [
    {
     "data": {
      "text/plain": [
       "4.0    215773\n",
       "3.0    155918\n",
       "3.5    150582\n",
       "4.5     88652\n",
       "5.0     71680\n",
       "2.5     62454\n",
       "2.0     57188\n",
       "1.0     21535\n",
       "1.5     18328\n",
       "0.5     13488\n",
       "Name: rating, dtype: int64"
      ]
     },
     "execution_count": 140,
     "metadata": {},
     "output_type": "execute_result"
    }
   ],
   "source": [
    "df_user_ratedmovies_timestamps['rating'].value_counts(dropna=False)"
   ]
  },
  {
   "cell_type": "code",
   "execution_count": 141,
   "id": "10196962-1f48-41f5-a36f-af92e694ae57",
   "metadata": {},
   "outputs": [],
   "source": [
    "matrix_zero.fillna(0, inplace=True)"
   ]
  },
  {
   "cell_type": "code",
   "execution_count": 142,
   "id": "8f0a0c1e-3aae-4079-b903-4dbfb5469652",
   "metadata": {},
   "outputs": [
    {
     "data": {
      "text/html": [
       "<div>\n",
       "<style scoped>\n",
       "    .dataframe tbody tr th:only-of-type {\n",
       "        vertical-align: middle;\n",
       "    }\n",
       "\n",
       "    .dataframe tbody tr th {\n",
       "        vertical-align: top;\n",
       "    }\n",
       "\n",
       "    .dataframe thead th {\n",
       "        text-align: right;\n",
       "    }\n",
       "</style>\n",
       "<table border=\"1\" class=\"dataframe\">\n",
       "  <thead>\n",
       "    <tr style=\"text-align: right;\">\n",
       "      <th>userID</th>\n",
       "      <th>75</th>\n",
       "      <th>78</th>\n",
       "      <th>170</th>\n",
       "      <th>175</th>\n",
       "      <th>190</th>\n",
       "      <th>267</th>\n",
       "      <th>325</th>\n",
       "      <th>383</th>\n",
       "      <th>476</th>\n",
       "      <th>477</th>\n",
       "      <th>...</th>\n",
       "      <th>71331</th>\n",
       "      <th>71420</th>\n",
       "      <th>71478</th>\n",
       "      <th>71483</th>\n",
       "      <th>71487</th>\n",
       "      <th>71497</th>\n",
       "      <th>71509</th>\n",
       "      <th>71525</th>\n",
       "      <th>71529</th>\n",
       "      <th>71534</th>\n",
       "    </tr>\n",
       "    <tr>\n",
       "      <th>movieID</th>\n",
       "      <th></th>\n",
       "      <th></th>\n",
       "      <th></th>\n",
       "      <th></th>\n",
       "      <th></th>\n",
       "      <th></th>\n",
       "      <th></th>\n",
       "      <th></th>\n",
       "      <th></th>\n",
       "      <th></th>\n",
       "      <th></th>\n",
       "      <th></th>\n",
       "      <th></th>\n",
       "      <th></th>\n",
       "      <th></th>\n",
       "      <th></th>\n",
       "      <th></th>\n",
       "      <th></th>\n",
       "      <th></th>\n",
       "      <th></th>\n",
       "      <th></th>\n",
       "    </tr>\n",
       "  </thead>\n",
       "  <tbody>\n",
       "    <tr>\n",
       "      <th>858</th>\n",
       "      <td>0.0</td>\n",
       "      <td>4.0</td>\n",
       "      <td>0.0</td>\n",
       "      <td>5.0</td>\n",
       "      <td>1.0</td>\n",
       "      <td>2.5</td>\n",
       "      <td>5.0</td>\n",
       "      <td>4.0</td>\n",
       "      <td>0.0</td>\n",
       "      <td>5.0</td>\n",
       "      <td>...</td>\n",
       "      <td>0.0</td>\n",
       "      <td>4.0</td>\n",
       "      <td>5.0</td>\n",
       "      <td>5.0</td>\n",
       "      <td>5.0</td>\n",
       "      <td>5.0</td>\n",
       "      <td>5.0</td>\n",
       "      <td>5.0</td>\n",
       "      <td>0.0</td>\n",
       "      <td>5.0</td>\n",
       "    </tr>\n",
       "    <tr>\n",
       "      <th>1214</th>\n",
       "      <td>0.0</td>\n",
       "      <td>5.0</td>\n",
       "      <td>0.0</td>\n",
       "      <td>5.0</td>\n",
       "      <td>3.5</td>\n",
       "      <td>4.0</td>\n",
       "      <td>5.0</td>\n",
       "      <td>4.0</td>\n",
       "      <td>4.5</td>\n",
       "      <td>4.5</td>\n",
       "      <td>...</td>\n",
       "      <td>0.0</td>\n",
       "      <td>3.0</td>\n",
       "      <td>0.0</td>\n",
       "      <td>4.0</td>\n",
       "      <td>0.0</td>\n",
       "      <td>4.0</td>\n",
       "      <td>0.0</td>\n",
       "      <td>5.0</td>\n",
       "      <td>0.0</td>\n",
       "      <td>0.0</td>\n",
       "    </tr>\n",
       "    <tr>\n",
       "      <th>2571</th>\n",
       "      <td>4.5</td>\n",
       "      <td>5.0</td>\n",
       "      <td>3.5</td>\n",
       "      <td>5.0</td>\n",
       "      <td>5.0</td>\n",
       "      <td>4.0</td>\n",
       "      <td>0.0</td>\n",
       "      <td>4.0</td>\n",
       "      <td>4.5</td>\n",
       "      <td>4.5</td>\n",
       "      <td>...</td>\n",
       "      <td>5.0</td>\n",
       "      <td>5.0</td>\n",
       "      <td>0.0</td>\n",
       "      <td>4.0</td>\n",
       "      <td>5.0</td>\n",
       "      <td>5.0</td>\n",
       "      <td>3.5</td>\n",
       "      <td>5.0</td>\n",
       "      <td>2.5</td>\n",
       "      <td>4.5</td>\n",
       "    </tr>\n",
       "  </tbody>\n",
       "</table>\n",
       "<p>3 rows × 1822 columns</p>\n",
       "</div>"
      ],
      "text/plain": [
       "userID   75     78     170    175    190    267    325    383    476    477    \\\n",
       "movieID                                                                         \n",
       "858        0.0    4.0    0.0    5.0    1.0    2.5    5.0    4.0    0.0    5.0   \n",
       "1214       0.0    5.0    0.0    5.0    3.5    4.0    5.0    4.0    4.5    4.5   \n",
       "2571       4.5    5.0    3.5    5.0    5.0    4.0    0.0    4.0    4.5    4.5   \n",
       "\n",
       "userID   ...  71331  71420  71478  71483  71487  71497  71509  71525  71529  \\\n",
       "movieID  ...                                                                  \n",
       "858      ...    0.0    4.0    5.0    5.0    5.0    5.0    5.0    5.0    0.0   \n",
       "1214     ...    0.0    3.0    0.0    4.0    0.0    4.0    0.0    5.0    0.0   \n",
       "2571     ...    5.0    5.0    0.0    4.0    5.0    5.0    3.5    5.0    2.5   \n",
       "\n",
       "userID   71534  \n",
       "movieID         \n",
       "858        5.0  \n",
       "1214       0.0  \n",
       "2571       4.5  \n",
       "\n",
       "[3 rows x 1822 columns]"
      ]
     },
     "execution_count": 142,
     "metadata": {},
     "output_type": "execute_result"
    }
   ],
   "source": [
    "matrix_zero"
   ]
  },
  {
   "cell_type": "code",
   "execution_count": 143,
   "id": "3bb1b041-42ba-480e-abb4-db406d005eb5",
   "metadata": {},
   "outputs": [],
   "source": [
    "# converting the matrix_zero which is a data frame in to a Matrix\n",
    "\n",
    "Matt =matrix_zero.values"
   ]
  },
  {
   "cell_type": "code",
   "execution_count": 144,
   "id": "5f1b81ff-421c-43a4-ba68-13e48d653ff2",
   "metadata": {},
   "outputs": [
    {
     "data": {
      "text/plain": [
       "array([[0. , 4. , 0. , ..., 5. , 0. , 5. ],\n",
       "       [0. , 5. , 0. , ..., 5. , 0. , 0. ],\n",
       "       [4.5, 5. , 3.5, ..., 5. , 2.5, 4.5]])"
      ]
     },
     "execution_count": 144,
     "metadata": {},
     "output_type": "execute_result"
    }
   ],
   "source": [
    "Matt"
   ]
  },
  {
   "cell_type": "code",
   "execution_count": 145,
   "id": "f98df261-89b7-4f30-b505-09b10f6a3111",
   "metadata": {},
   "outputs": [],
   "source": [
    "# calculate the sparsity of the matrix\n",
    "\n",
    "#first calculate the number of non zeros\n",
    "#  np.count_nonzero(matrix_zero!=0)\n",
    "\n",
    "#calculate the number of zeros\n",
    "num_zeros = Matt.size - np.count_nonzero(Matt!=0)\n",
    "sparsity = num_zeros / Matt.size"
   ]
  },
  {
   "cell_type": "code",
   "execution_count": 146,
   "id": "a2eb440e-f5b0-4186-8136-62f9b53b24fd",
   "metadata": {},
   "outputs": [
    {
     "data": {
      "text/plain": [
       "0.2934504207830223"
      ]
     },
     "execution_count": 146,
     "metadata": {},
     "output_type": "execute_result"
    }
   ],
   "source": [
    "sparsity"
   ]
  },
  {
   "cell_type": "code",
   "execution_count": 147,
   "id": "106d4152-8f32-4c6e-9078-14259f122a95",
   "metadata": {},
   "outputs": [],
   "source": [
    "# It seems that it is NOT very sparse "
   ]
  },
  {
   "cell_type": "code",
   "execution_count": 148,
   "id": "527ac6bd-a363-4ce3-9dee-8e0123f3ebc7",
   "metadata": {},
   "outputs": [
    {
     "data": {
      "text/plain": [
       "<3x1822 sparse matrix of type '<class 'numpy.float64'>'\n",
       "\twith 3862 stored elements in Compressed Sparse Row format>"
      ]
     },
     "execution_count": 148,
     "metadata": {},
     "output_type": "execute_result"
    }
   ],
   "source": [
    "# convert matrix to a sparse matrix\n",
    "sparse_matrix = csr_matrix(Matt)\n",
    "sparse_matrix"
   ]
  },
  {
   "cell_type": "code",
   "execution_count": 149,
   "id": "2cdb0059-94e6-445b-8520-ee73242f05f5",
   "metadata": {
    "tags": []
   },
   "outputs": [
    {
     "name": "stdout",
     "output_type": "stream",
     "text": [
      "  (0, 1)\t4.0\n",
      "  (0, 3)\t5.0\n",
      "  (0, 4)\t1.0\n",
      "  (0, 5)\t2.5\n",
      "  (0, 6)\t5.0\n",
      "  (0, 7)\t4.0\n",
      "  (0, 9)\t5.0\n",
      "  (0, 10)\t4.0\n",
      "  (0, 11)\t5.0\n",
      "  (0, 12)\t5.0\n",
      "  (0, 14)\t5.0\n",
      "  (0, 17)\t4.0\n",
      "  (0, 22)\t5.0\n",
      "  (0, 23)\t4.5\n",
      "  (0, 26)\t4.0\n",
      "  (0, 28)\t4.0\n",
      "  (0, 29)\t4.5\n",
      "  (0, 30)\t3.5\n",
      "  (0, 32)\t4.5\n",
      "  (0, 33)\t5.0\n",
      "  (0, 34)\t4.5\n",
      "  (0, 35)\t3.0\n",
      "  (0, 36)\t4.5\n",
      "  (0, 37)\t4.0\n",
      "  (0, 38)\t5.0\n",
      "  :\t:\n",
      "  (2, 1795)\t5.0\n",
      "  (2, 1796)\t5.0\n",
      "  (2, 1797)\t5.0\n",
      "  (2, 1798)\t4.0\n",
      "  (2, 1799)\t4.0\n",
      "  (2, 1800)\t4.5\n",
      "  (2, 1801)\t4.0\n",
      "  (2, 1802)\t4.5\n",
      "  (2, 1803)\t4.5\n",
      "  (2, 1804)\t3.5\n",
      "  (2, 1805)\t5.0\n",
      "  (2, 1806)\t0.5\n",
      "  (2, 1807)\t4.0\n",
      "  (2, 1808)\t4.0\n",
      "  (2, 1809)\t2.5\n",
      "  (2, 1810)\t4.5\n",
      "  (2, 1812)\t5.0\n",
      "  (2, 1813)\t5.0\n",
      "  (2, 1815)\t4.0\n",
      "  (2, 1816)\t5.0\n",
      "  (2, 1817)\t5.0\n",
      "  (2, 1818)\t3.5\n",
      "  (2, 1819)\t5.0\n",
      "  (2, 1820)\t2.5\n",
      "  (2, 1821)\t4.5\n"
     ]
    }
   ],
   "source": [
    "print(sparse_matrix)"
   ]
  },
  {
   "cell_type": "code",
   "execution_count": 150,
   "id": "890d06a4-9421-4317-98ab-30e280a08e71",
   "metadata": {},
   "outputs": [
    {
     "data": {
      "text/plain": [
       "array([[1.        , 0.6626891 , 0.71107806],\n",
       "       [0.6626891 , 1.        , 0.72501861],\n",
       "       [0.71107806, 0.72501861, 1.        ]])"
      ]
     },
     "execution_count": 150,
     "metadata": {},
     "output_type": "execute_result"
    }
   ],
   "source": [
    "# Compute a similarity score based on the item information encoded\n",
    "# cosine_similarity using sklearn library\n",
    "\n",
    "sk.metrics.pairwise.cosine_similarity(sparse_matrix, Y=None, dense_output=True)"
   ]
  },
  {
   "cell_type": "code",
   "execution_count": 151,
   "id": "6c137522-af2b-41f1-b3cd-cd6bac9d7e1c",
   "metadata": {},
   "outputs": [],
   "source": [
    "# cosine_similarity without using sklearn library\n",
    "\n",
    "# convert matrix to a sparse matrix\n",
    "#sparse_matrix = csr_matrix(matrix)\n",
    "\n",
    "# calculate dot product between rows of the sparse matrix\n",
    "dot_products = sparse_matrix.dot(sparse_matrix.T)\n",
    "\n",
    "# calculate Euclidean norm of rows of the sparse matrix\n",
    "row_norms = np.sqrt(np.sum(np.square(Matt), axis=1))\n",
    "\n",
    "# calculate cosine similarity\n",
    "cosine_similarity = dot_products.multiply(1 / row_norms).T.multiply(1 / row_norms)"
   ]
  },
  {
   "cell_type": "code",
   "execution_count": 152,
   "id": "40489c16-d1e7-4ee1-8a27-c1690fab4abf",
   "metadata": {},
   "outputs": [
    {
     "name": "stdout",
     "output_type": "stream",
     "text": [
      "  (0, 0)\t1.0\n",
      "  (0, 1)\t0.6626890966346144\n",
      "  (0, 2)\t0.7110780648641414\n",
      "  (1, 0)\t0.6626890966346144\n",
      "  (1, 1)\t0.9999999999999998\n",
      "  (1, 2)\t0.7250186140452017\n",
      "  (2, 0)\t0.7110780648641414\n",
      "  (2, 1)\t0.7250186140452018\n",
      "  (2, 2)\t1.0000000000000002\n"
     ]
    }
   ],
   "source": [
    "print(cosine_similarity)"
   ]
  },
  {
   "cell_type": "code",
   "execution_count": 153,
   "id": "043526d6-6af2-423f-92d3-6f0166edda9c",
   "metadata": {},
   "outputs": [
    {
     "name": "stderr",
     "output_type": "stream",
     "text": [
      "C:\\Users\\enabi\\anaconda3\\lib\\site-packages\\sklearn\\metrics\\pairwise.py:1875: DataConversionWarning: Data was converted to boolean for metric jaccard\n",
      "  warnings.warn(msg, DataConversionWarning)\n"
     ]
    }
   ],
   "source": [
    "# convert ratings matrix to binary matrix (We shoul work with matrix that has the null values (I mean matrix not Matt or sparse_matrix) because we need to convert it into a binary matrix \n",
    "#in which 1 indicates that a user has rated a movie and 0 indicates that a user has not rated the movie. \n",
    "\n",
    "binary_matrix = matrix.notnull().astype('int')\n",
    "\n",
    "# calculate Jaccard similarity matrix\n",
    "jaccard_sim_matrix = 1 - pairwise_distances(binary_matrix.values, metric='jaccard')"
   ]
  },
  {
   "cell_type": "code",
   "execution_count": 154,
   "id": "1f4a11b3-cb5d-4f83-bda5-66a0e4f1a880",
   "metadata": {},
   "outputs": [
    {
     "data": {
      "text/plain": [
       "array([[1.        , 0.50136986, 0.56473214],\n",
       "       [0.50136986, 1.        , 0.57142857],\n",
       "       [0.56473214, 0.57142857, 1.        ]])"
      ]
     },
     "execution_count": 154,
     "metadata": {},
     "output_type": "execute_result"
    }
   ],
   "source": [
    "jaccard_sim_matrix"
   ]
  },
  {
   "cell_type": "code",
   "execution_count": 155,
   "id": "87e453ed-51d3-4143-a136-e2aeb4558742",
   "metadata": {},
   "outputs": [],
   "source": [
    "# Convert the ratings matrix to a sparse matrix\n",
    "#sparse_ratings = csr_matrix(matrix.values)\n",
    "\n",
    "# Compute the correlation matrix using pairwise_distances\n",
    "correlation_matrix = pairwise_distances(sparse_matrix.toarray(), metric='correlation')"
   ]
  },
  {
   "cell_type": "code",
   "execution_count": 156,
   "id": "3c7fc559-f44d-435e-9ff9-48baf73677fc",
   "metadata": {},
   "outputs": [
    {
     "data": {
      "text/plain": [
       "array([[0.        , 0.7989134 , 1.07631398],\n",
       "       [0.7989134 , 0.        , 0.8828587 ],\n",
       "       [1.07631398, 0.8828587 , 0.        ]])"
      ]
     },
     "execution_count": 156,
     "metadata": {},
     "output_type": "execute_result"
    }
   ],
   "source": [
    "correlation_matrix"
   ]
  },
  {
   "cell_type": "code",
   "execution_count": 1,
   "id": "2443536a-ebb4-43f9-a01c-9c2b9a78fde6",
   "metadata": {},
   "outputs": [
    {
     "data": {
      "text/plain": [
       "0.9236860200000001"
      ]
     },
     "execution_count": 1,
     "metadata": {},
     "output_type": "execute_result"
    }
   ],
   "source": [
    "2 - 1.07631398"
   ]
  },
  {
   "cell_type": "code",
   "execution_count": null,
   "id": "ce69de88-32ad-4ba9-9cf8-69af2acd73dc",
   "metadata": {},
   "outputs": [],
   "source": []
  },
  {
   "cell_type": "code",
   "execution_count": 2,
   "id": "79f17b4e-b238-44c1-bd10-1ca419b3bd01",
   "metadata": {},
   "outputs": [
    {
     "name": "stdout",
     "output_type": "stream",
     "text": [
      "Collecting implicit\n",
      "  Downloading implicit-0.6.2-cp310-cp310-win_amd64.whl (634 kB)\n",
      "     ------------------------------------- 634.5/634.5 kB 13.3 MB/s eta 0:00:00\n",
      "Requirement already satisfied: numpy in c:\\users\\enabi\\anaconda3\\lib\\site-packages (from implicit) (1.23.5)\n",
      "Requirement already satisfied: scipy>=0.16 in c:\\users\\enabi\\anaconda3\\lib\\site-packages (from implicit) (1.10.0)\n",
      "Requirement already satisfied: tqdm>=4.27 in c:\\users\\enabi\\anaconda3\\lib\\site-packages (from implicit) (4.64.1)\n",
      "Requirement already satisfied: colorama in c:\\users\\enabi\\anaconda3\\lib\\site-packages (from tqdm>=4.27->implicit) (0.4.6)\n",
      "Installing collected packages: implicit\n",
      "Successfully installed implicit-0.6.2\n"
     ]
    }
   ],
   "source": [
    "!pip install implicit"
   ]
  }
 ],
 "metadata": {
  "kernelspec": {
   "display_name": "Python 3 (ipykernel)",
   "language": "python",
   "name": "python3"
  },
  "language_info": {
   "codemirror_mode": {
    "name": "ipython",
    "version": 3
   },
   "file_extension": ".py",
   "mimetype": "text/x-python",
   "name": "python",
   "nbconvert_exporter": "python",
   "pygments_lexer": "ipython3",
   "version": "3.10.9"
  }
 },
 "nbformat": 4,
 "nbformat_minor": 5
}
