{
 "cells": [
  {
   "cell_type": "code",
   "execution_count": 1,
   "id": "0f25adc0-259b-472b-9113-1ca0f455b5ae",
   "metadata": {},
   "outputs": [],
   "source": [
    "import urllib.request\n",
    "import zipfile\n",
    "import pandas as pd\n",
    "import os\n",
    "import matplotlib.pyplot as plt\n",
    "import math\n",
    "import numpy as np\n",
    "import seaborn as sns"
   ]
  },
  {
   "cell_type": "code",
   "execution_count": 2,
   "id": "7b8b822a-8db1-415d-a849-a233e4277e6a",
   "metadata": {},
   "outputs": [],
   "source": [
    "url = 'https://files.grouplens.org/datasets/hetrec2011/hetrec2011-movielens-2k-v2.zip'\n",
    "file_name= 'df.zip'\n",
    "urllib.request.urlretrieve(url,file_name)\n",
    "with zipfile.ZipFile(file_name, 'r') as zip_ref:\n",
    "    zip_ref.extractall('all')\n",
    "# 'all' is the name of the folder in which we want to extract the zip file"
   ]
  },
  {
   "cell_type": "code",
   "execution_count": 3,
   "id": "9be1a3ef-334c-4db3-8921-7e48cf09549b",
   "metadata": {},
   "outputs": [],
   "source": [
    "# we are saying that the content are seperated by (Tab) instead of comma.\n",
    "df_movie_actors= pd.read_csv('all/movie_actors.dat', sep='\\t', encoding='ISO-8859-1')"
   ]
  },
  {
   "cell_type": "code",
   "execution_count": 4,
   "id": "f71bcd8d-93d8-4a4f-82b2-dccd0b404519",
   "metadata": {},
   "outputs": [
    {
     "data": {
      "text/html": [
       "<div>\n",
       "<style scoped>\n",
       "    .dataframe tbody tr th:only-of-type {\n",
       "        vertical-align: middle;\n",
       "    }\n",
       "\n",
       "    .dataframe tbody tr th {\n",
       "        vertical-align: top;\n",
       "    }\n",
       "\n",
       "    .dataframe thead th {\n",
       "        text-align: right;\n",
       "    }\n",
       "</style>\n",
       "<table border=\"1\" class=\"dataframe\">\n",
       "  <thead>\n",
       "    <tr style=\"text-align: right;\">\n",
       "      <th></th>\n",
       "      <th>movieID</th>\n",
       "      <th>actorID</th>\n",
       "      <th>actorName</th>\n",
       "      <th>ranking</th>\n",
       "    </tr>\n",
       "  </thead>\n",
       "  <tbody>\n",
       "    <tr>\n",
       "      <th>0</th>\n",
       "      <td>1</td>\n",
       "      <td>annie_potts</td>\n",
       "      <td>Annie Potts</td>\n",
       "      <td>10</td>\n",
       "    </tr>\n",
       "    <tr>\n",
       "      <th>1</th>\n",
       "      <td>1</td>\n",
       "      <td>bill_farmer</td>\n",
       "      <td>Bill Farmer</td>\n",
       "      <td>20</td>\n",
       "    </tr>\n",
       "    <tr>\n",
       "      <th>2</th>\n",
       "      <td>1</td>\n",
       "      <td>don_rickles</td>\n",
       "      <td>Don Rickles</td>\n",
       "      <td>3</td>\n",
       "    </tr>\n",
       "    <tr>\n",
       "      <th>3</th>\n",
       "      <td>1</td>\n",
       "      <td>erik_von_detten</td>\n",
       "      <td>Erik von Detten</td>\n",
       "      <td>13</td>\n",
       "    </tr>\n",
       "    <tr>\n",
       "      <th>4</th>\n",
       "      <td>1</td>\n",
       "      <td>greg-berg</td>\n",
       "      <td>Greg Berg</td>\n",
       "      <td>17</td>\n",
       "    </tr>\n",
       "  </tbody>\n",
       "</table>\n",
       "</div>"
      ],
      "text/plain": [
       "   movieID          actorID        actorName  ranking\n",
       "0        1      annie_potts      Annie Potts       10\n",
       "1        1      bill_farmer      Bill Farmer       20\n",
       "2        1      don_rickles      Don Rickles        3\n",
       "3        1  erik_von_detten  Erik von Detten       13\n",
       "4        1        greg-berg        Greg Berg       17"
      ]
     },
     "execution_count": 4,
     "metadata": {},
     "output_type": "execute_result"
    }
   ],
   "source": [
    "df_movie_actors.head()"
   ]
  },
  {
   "cell_type": "code",
   "execution_count": 5,
   "id": "cc370733-c16e-4c95-8560-d5eba518aba6",
   "metadata": {},
   "outputs": [],
   "source": [
    "df_movie_countries= pd.read_csv('all/movie_countries.dat', sep='\\t', encoding='ISO-8859-1')"
   ]
  },
  {
   "cell_type": "code",
   "execution_count": 6,
   "id": "f97d9925-97ea-485d-bd83-e09ca22e9b79",
   "metadata": {},
   "outputs": [
    {
     "data": {
      "text/html": [
       "<div>\n",
       "<style scoped>\n",
       "    .dataframe tbody tr th:only-of-type {\n",
       "        vertical-align: middle;\n",
       "    }\n",
       "\n",
       "    .dataframe tbody tr th {\n",
       "        vertical-align: top;\n",
       "    }\n",
       "\n",
       "    .dataframe thead th {\n",
       "        text-align: right;\n",
       "    }\n",
       "</style>\n",
       "<table border=\"1\" class=\"dataframe\">\n",
       "  <thead>\n",
       "    <tr style=\"text-align: right;\">\n",
       "      <th></th>\n",
       "      <th>movieID</th>\n",
       "      <th>country</th>\n",
       "    </tr>\n",
       "  </thead>\n",
       "  <tbody>\n",
       "    <tr>\n",
       "      <th>0</th>\n",
       "      <td>1</td>\n",
       "      <td>USA</td>\n",
       "    </tr>\n",
       "    <tr>\n",
       "      <th>1</th>\n",
       "      <td>2</td>\n",
       "      <td>USA</td>\n",
       "    </tr>\n",
       "    <tr>\n",
       "      <th>2</th>\n",
       "      <td>3</td>\n",
       "      <td>USA</td>\n",
       "    </tr>\n",
       "    <tr>\n",
       "      <th>3</th>\n",
       "      <td>4</td>\n",
       "      <td>USA</td>\n",
       "    </tr>\n",
       "    <tr>\n",
       "      <th>4</th>\n",
       "      <td>5</td>\n",
       "      <td>USA</td>\n",
       "    </tr>\n",
       "  </tbody>\n",
       "</table>\n",
       "</div>"
      ],
      "text/plain": [
       "   movieID country\n",
       "0        1     USA\n",
       "1        2     USA\n",
       "2        3     USA\n",
       "3        4     USA\n",
       "4        5     USA"
      ]
     },
     "execution_count": 6,
     "metadata": {},
     "output_type": "execute_result"
    }
   ],
   "source": [
    "df_movie_countries.head()"
   ]
  },
  {
   "cell_type": "code",
   "execution_count": 7,
   "id": "1558f9fe-037b-43e8-bccc-8bd2453c911e",
   "metadata": {},
   "outputs": [],
   "source": [
    "df_movie_directors= pd.read_csv('all/movie_directors.dat', sep='\\t', encoding='ISO-8859-1')"
   ]
  },
  {
   "cell_type": "code",
   "execution_count": 8,
   "id": "aff53344-2150-470c-9b9e-12718bbf4b08",
   "metadata": {},
   "outputs": [
    {
     "data": {
      "text/html": [
       "<div>\n",
       "<style scoped>\n",
       "    .dataframe tbody tr th:only-of-type {\n",
       "        vertical-align: middle;\n",
       "    }\n",
       "\n",
       "    .dataframe tbody tr th {\n",
       "        vertical-align: top;\n",
       "    }\n",
       "\n",
       "    .dataframe thead th {\n",
       "        text-align: right;\n",
       "    }\n",
       "</style>\n",
       "<table border=\"1\" class=\"dataframe\">\n",
       "  <thead>\n",
       "    <tr style=\"text-align: right;\">\n",
       "      <th></th>\n",
       "      <th>movieID</th>\n",
       "      <th>directorID</th>\n",
       "      <th>directorName</th>\n",
       "    </tr>\n",
       "  </thead>\n",
       "  <tbody>\n",
       "    <tr>\n",
       "      <th>0</th>\n",
       "      <td>1</td>\n",
       "      <td>john_lasseter</td>\n",
       "      <td>John Lasseter</td>\n",
       "    </tr>\n",
       "    <tr>\n",
       "      <th>1</th>\n",
       "      <td>2</td>\n",
       "      <td>joe_johnston</td>\n",
       "      <td>Joe Johnston</td>\n",
       "    </tr>\n",
       "    <tr>\n",
       "      <th>2</th>\n",
       "      <td>3</td>\n",
       "      <td>donald_petrie</td>\n",
       "      <td>Donald Petrie</td>\n",
       "    </tr>\n",
       "    <tr>\n",
       "      <th>3</th>\n",
       "      <td>4</td>\n",
       "      <td>forest_whitaker</td>\n",
       "      <td>Forest Whitaker</td>\n",
       "    </tr>\n",
       "    <tr>\n",
       "      <th>4</th>\n",
       "      <td>5</td>\n",
       "      <td>charles_shyer</td>\n",
       "      <td>Charles Shyer</td>\n",
       "    </tr>\n",
       "  </tbody>\n",
       "</table>\n",
       "</div>"
      ],
      "text/plain": [
       "   movieID       directorID     directorName\n",
       "0        1    john_lasseter    John Lasseter\n",
       "1        2     joe_johnston     Joe Johnston\n",
       "2        3    donald_petrie    Donald Petrie\n",
       "3        4  forest_whitaker  Forest Whitaker\n",
       "4        5    charles_shyer    Charles Shyer"
      ]
     },
     "execution_count": 8,
     "metadata": {},
     "output_type": "execute_result"
    }
   ],
   "source": [
    "df_movie_directors.head()"
   ]
  },
  {
   "cell_type": "code",
   "execution_count": 9,
   "id": "2e5fb6e6-9301-4bb5-a0e6-ec65cebc67e1",
   "metadata": {},
   "outputs": [],
   "source": [
    "df_movie_genres= pd.read_csv('all/movie_genres.dat', sep='\\t', encoding='ISO-8859-1')"
   ]
  },
  {
   "cell_type": "code",
   "execution_count": 10,
   "id": "082b4fc5-3ff3-4dde-8080-74a940417afa",
   "metadata": {},
   "outputs": [
    {
     "data": {
      "text/html": [
       "<div>\n",
       "<style scoped>\n",
       "    .dataframe tbody tr th:only-of-type {\n",
       "        vertical-align: middle;\n",
       "    }\n",
       "\n",
       "    .dataframe tbody tr th {\n",
       "        vertical-align: top;\n",
       "    }\n",
       "\n",
       "    .dataframe thead th {\n",
       "        text-align: right;\n",
       "    }\n",
       "</style>\n",
       "<table border=\"1\" class=\"dataframe\">\n",
       "  <thead>\n",
       "    <tr style=\"text-align: right;\">\n",
       "      <th></th>\n",
       "      <th>movieID</th>\n",
       "      <th>genre</th>\n",
       "    </tr>\n",
       "  </thead>\n",
       "  <tbody>\n",
       "    <tr>\n",
       "      <th>0</th>\n",
       "      <td>1</td>\n",
       "      <td>Adventure</td>\n",
       "    </tr>\n",
       "    <tr>\n",
       "      <th>1</th>\n",
       "      <td>1</td>\n",
       "      <td>Animation</td>\n",
       "    </tr>\n",
       "    <tr>\n",
       "      <th>2</th>\n",
       "      <td>1</td>\n",
       "      <td>Children</td>\n",
       "    </tr>\n",
       "    <tr>\n",
       "      <th>3</th>\n",
       "      <td>1</td>\n",
       "      <td>Comedy</td>\n",
       "    </tr>\n",
       "    <tr>\n",
       "      <th>4</th>\n",
       "      <td>1</td>\n",
       "      <td>Fantasy</td>\n",
       "    </tr>\n",
       "  </tbody>\n",
       "</table>\n",
       "</div>"
      ],
      "text/plain": [
       "   movieID      genre\n",
       "0        1  Adventure\n",
       "1        1  Animation\n",
       "2        1   Children\n",
       "3        1     Comedy\n",
       "4        1    Fantasy"
      ]
     },
     "execution_count": 10,
     "metadata": {},
     "output_type": "execute_result"
    }
   ],
   "source": [
    "df_movie_genres.head()"
   ]
  },
  {
   "cell_type": "code",
   "execution_count": 11,
   "id": "bf57c383-c389-49b7-94d1-53211b478963",
   "metadata": {},
   "outputs": [],
   "source": [
    "df_movie_locations= pd.read_csv('all/movie_locations.dat', sep='\\t', encoding='ISO-8859-1')"
   ]
  },
  {
   "cell_type": "code",
   "execution_count": 12,
   "id": "387f1b98-bf44-4c0d-a393-ecaeb739a240",
   "metadata": {},
   "outputs": [
    {
     "data": {
      "text/html": [
       "<div>\n",
       "<style scoped>\n",
       "    .dataframe tbody tr th:only-of-type {\n",
       "        vertical-align: middle;\n",
       "    }\n",
       "\n",
       "    .dataframe tbody tr th {\n",
       "        vertical-align: top;\n",
       "    }\n",
       "\n",
       "    .dataframe thead th {\n",
       "        text-align: right;\n",
       "    }\n",
       "</style>\n",
       "<table border=\"1\" class=\"dataframe\">\n",
       "  <thead>\n",
       "    <tr style=\"text-align: right;\">\n",
       "      <th></th>\n",
       "      <th>movieID</th>\n",
       "      <th>location1</th>\n",
       "      <th>location2</th>\n",
       "      <th>location3</th>\n",
       "      <th>location4</th>\n",
       "    </tr>\n",
       "  </thead>\n",
       "  <tbody>\n",
       "    <tr>\n",
       "      <th>0</th>\n",
       "      <td>1</td>\n",
       "      <td>NaN</td>\n",
       "      <td>NaN</td>\n",
       "      <td>NaN</td>\n",
       "      <td>NaN</td>\n",
       "    </tr>\n",
       "    <tr>\n",
       "      <th>1</th>\n",
       "      <td>2</td>\n",
       "      <td>Canada</td>\n",
       "      <td>British Columbia</td>\n",
       "      <td>NaN</td>\n",
       "      <td>NaN</td>\n",
       "    </tr>\n",
       "    <tr>\n",
       "      <th>2</th>\n",
       "      <td>2</td>\n",
       "      <td>Canada</td>\n",
       "      <td>British Columbia</td>\n",
       "      <td>Delta</td>\n",
       "      <td>NaN</td>\n",
       "    </tr>\n",
       "    <tr>\n",
       "      <th>3</th>\n",
       "      <td>2</td>\n",
       "      <td>Canada</td>\n",
       "      <td>British Columbia</td>\n",
       "      <td>Delta</td>\n",
       "      <td>Tsawwassen</td>\n",
       "    </tr>\n",
       "    <tr>\n",
       "      <th>4</th>\n",
       "      <td>2</td>\n",
       "      <td>Canada</td>\n",
       "      <td>British Columbia</td>\n",
       "      <td>Maple Ridge</td>\n",
       "      <td>NaN</td>\n",
       "    </tr>\n",
       "  </tbody>\n",
       "</table>\n",
       "</div>"
      ],
      "text/plain": [
       "   movieID location1         location2    location3   location4\n",
       "0        1       NaN               NaN          NaN         NaN\n",
       "1        2    Canada  British Columbia          NaN         NaN\n",
       "2        2    Canada  British Columbia        Delta         NaN\n",
       "3        2    Canada  British Columbia        Delta  Tsawwassen\n",
       "4        2    Canada  British Columbia  Maple Ridge         NaN"
      ]
     },
     "execution_count": 12,
     "metadata": {},
     "output_type": "execute_result"
    }
   ],
   "source": [
    "df_movie_locations.head()"
   ]
  },
  {
   "cell_type": "code",
   "execution_count": 13,
   "id": "9f8bbf0c-f234-445c-aa19-419ad3042a61",
   "metadata": {},
   "outputs": [],
   "source": [
    "df_movie_tags= pd.read_csv('all/movie_tags.dat', sep='\\t', encoding='ISO-8859-1')"
   ]
  },
  {
   "cell_type": "code",
   "execution_count": 14,
   "id": "2442e89b-d1c7-489d-8d29-948d9a50ad1b",
   "metadata": {},
   "outputs": [
    {
     "data": {
      "text/html": [
       "<div>\n",
       "<style scoped>\n",
       "    .dataframe tbody tr th:only-of-type {\n",
       "        vertical-align: middle;\n",
       "    }\n",
       "\n",
       "    .dataframe tbody tr th {\n",
       "        vertical-align: top;\n",
       "    }\n",
       "\n",
       "    .dataframe thead th {\n",
       "        text-align: right;\n",
       "    }\n",
       "</style>\n",
       "<table border=\"1\" class=\"dataframe\">\n",
       "  <thead>\n",
       "    <tr style=\"text-align: right;\">\n",
       "      <th></th>\n",
       "      <th>movieID</th>\n",
       "      <th>tagID</th>\n",
       "      <th>tagWeight</th>\n",
       "    </tr>\n",
       "  </thead>\n",
       "  <tbody>\n",
       "    <tr>\n",
       "      <th>0</th>\n",
       "      <td>1</td>\n",
       "      <td>7</td>\n",
       "      <td>1</td>\n",
       "    </tr>\n",
       "    <tr>\n",
       "      <th>1</th>\n",
       "      <td>1</td>\n",
       "      <td>13</td>\n",
       "      <td>3</td>\n",
       "    </tr>\n",
       "    <tr>\n",
       "      <th>2</th>\n",
       "      <td>1</td>\n",
       "      <td>25</td>\n",
       "      <td>3</td>\n",
       "    </tr>\n",
       "    <tr>\n",
       "      <th>3</th>\n",
       "      <td>1</td>\n",
       "      <td>55</td>\n",
       "      <td>3</td>\n",
       "    </tr>\n",
       "    <tr>\n",
       "      <th>4</th>\n",
       "      <td>1</td>\n",
       "      <td>60</td>\n",
       "      <td>1</td>\n",
       "    </tr>\n",
       "  </tbody>\n",
       "</table>\n",
       "</div>"
      ],
      "text/plain": [
       "   movieID  tagID  tagWeight\n",
       "0        1      7          1\n",
       "1        1     13          3\n",
       "2        1     25          3\n",
       "3        1     55          3\n",
       "4        1     60          1"
      ]
     },
     "execution_count": 14,
     "metadata": {},
     "output_type": "execute_result"
    }
   ],
   "source": [
    "df_movie_tags.head()"
   ]
  },
  {
   "cell_type": "code",
   "execution_count": 15,
   "id": "eddd613b-1b80-4509-a6f7-fc450db23444",
   "metadata": {},
   "outputs": [],
   "source": [
    "df_movies= pd.read_csv('all/movies.dat', sep='\\t', encoding='ISO-8859-1')"
   ]
  },
  {
   "cell_type": "code",
   "execution_count": 16,
   "id": "0244bc7b-ac73-4c14-9cb8-1b97721217c6",
   "metadata": {},
   "outputs": [
    {
     "data": {
      "text/html": [
       "<div>\n",
       "<style scoped>\n",
       "    .dataframe tbody tr th:only-of-type {\n",
       "        vertical-align: middle;\n",
       "    }\n",
       "\n",
       "    .dataframe tbody tr th {\n",
       "        vertical-align: top;\n",
       "    }\n",
       "\n",
       "    .dataframe thead th {\n",
       "        text-align: right;\n",
       "    }\n",
       "</style>\n",
       "<table border=\"1\" class=\"dataframe\">\n",
       "  <thead>\n",
       "    <tr style=\"text-align: right;\">\n",
       "      <th></th>\n",
       "      <th>id</th>\n",
       "      <th>title</th>\n",
       "      <th>imdbID</th>\n",
       "      <th>spanishTitle</th>\n",
       "      <th>imdbPictureURL</th>\n",
       "      <th>year</th>\n",
       "      <th>rtID</th>\n",
       "      <th>rtAllCriticsRating</th>\n",
       "      <th>rtAllCriticsNumReviews</th>\n",
       "      <th>rtAllCriticsNumFresh</th>\n",
       "      <th>...</th>\n",
       "      <th>rtAllCriticsScore</th>\n",
       "      <th>rtTopCriticsRating</th>\n",
       "      <th>rtTopCriticsNumReviews</th>\n",
       "      <th>rtTopCriticsNumFresh</th>\n",
       "      <th>rtTopCriticsNumRotten</th>\n",
       "      <th>rtTopCriticsScore</th>\n",
       "      <th>rtAudienceRating</th>\n",
       "      <th>rtAudienceNumRatings</th>\n",
       "      <th>rtAudienceScore</th>\n",
       "      <th>rtPictureURL</th>\n",
       "    </tr>\n",
       "  </thead>\n",
       "  <tbody>\n",
       "    <tr>\n",
       "      <th>0</th>\n",
       "      <td>1</td>\n",
       "      <td>Toy story</td>\n",
       "      <td>114709</td>\n",
       "      <td>Toy story (juguetes)</td>\n",
       "      <td>http://ia.media-imdb.com/images/M/MV5BMTMwNDU0...</td>\n",
       "      <td>1995</td>\n",
       "      <td>toy_story</td>\n",
       "      <td>9</td>\n",
       "      <td>73</td>\n",
       "      <td>73</td>\n",
       "      <td>...</td>\n",
       "      <td>100</td>\n",
       "      <td>8.5</td>\n",
       "      <td>17</td>\n",
       "      <td>17</td>\n",
       "      <td>0</td>\n",
       "      <td>100</td>\n",
       "      <td>3.7</td>\n",
       "      <td>102338</td>\n",
       "      <td>81</td>\n",
       "      <td>http://content7.flixster.com/movie/10/93/63/10...</td>\n",
       "    </tr>\n",
       "    <tr>\n",
       "      <th>1</th>\n",
       "      <td>2</td>\n",
       "      <td>Jumanji</td>\n",
       "      <td>113497</td>\n",
       "      <td>Jumanji</td>\n",
       "      <td>http://ia.media-imdb.com/images/M/MV5BMzM5NjE1...</td>\n",
       "      <td>1995</td>\n",
       "      <td>1068044-jumanji</td>\n",
       "      <td>5.6</td>\n",
       "      <td>28</td>\n",
       "      <td>13</td>\n",
       "      <td>...</td>\n",
       "      <td>46</td>\n",
       "      <td>5.8</td>\n",
       "      <td>5</td>\n",
       "      <td>2</td>\n",
       "      <td>3</td>\n",
       "      <td>40</td>\n",
       "      <td>3.2</td>\n",
       "      <td>44587</td>\n",
       "      <td>61</td>\n",
       "      <td>http://content8.flixster.com/movie/56/79/73/56...</td>\n",
       "    </tr>\n",
       "    <tr>\n",
       "      <th>2</th>\n",
       "      <td>3</td>\n",
       "      <td>Grumpy Old Men</td>\n",
       "      <td>107050</td>\n",
       "      <td>Dos viejos gruñones</td>\n",
       "      <td>http://ia.media-imdb.com/images/M/MV5BMTI5MTgy...</td>\n",
       "      <td>1993</td>\n",
       "      <td>grumpy_old_men</td>\n",
       "      <td>5.9</td>\n",
       "      <td>36</td>\n",
       "      <td>24</td>\n",
       "      <td>...</td>\n",
       "      <td>66</td>\n",
       "      <td>7</td>\n",
       "      <td>6</td>\n",
       "      <td>5</td>\n",
       "      <td>1</td>\n",
       "      <td>83</td>\n",
       "      <td>3.2</td>\n",
       "      <td>10489</td>\n",
       "      <td>66</td>\n",
       "      <td>http://content6.flixster.com/movie/25/60/25602...</td>\n",
       "    </tr>\n",
       "    <tr>\n",
       "      <th>3</th>\n",
       "      <td>4</td>\n",
       "      <td>Waiting to Exhale</td>\n",
       "      <td>114885</td>\n",
       "      <td>Esperando un respiro</td>\n",
       "      <td>http://ia.media-imdb.com/images/M/MV5BMTczMTMy...</td>\n",
       "      <td>1995</td>\n",
       "      <td>waiting_to_exhale</td>\n",
       "      <td>5.6</td>\n",
       "      <td>25</td>\n",
       "      <td>14</td>\n",
       "      <td>...</td>\n",
       "      <td>56</td>\n",
       "      <td>5.5</td>\n",
       "      <td>11</td>\n",
       "      <td>5</td>\n",
       "      <td>6</td>\n",
       "      <td>45</td>\n",
       "      <td>3.3</td>\n",
       "      <td>5666</td>\n",
       "      <td>79</td>\n",
       "      <td>http://content9.flixster.com/movie/10/94/17/10...</td>\n",
       "    </tr>\n",
       "    <tr>\n",
       "      <th>4</th>\n",
       "      <td>5</td>\n",
       "      <td>Father of the Bride Part II</td>\n",
       "      <td>113041</td>\n",
       "      <td>Vuelve el padre de la novia (Ahora también abu...</td>\n",
       "      <td>http://ia.media-imdb.com/images/M/MV5BMTg1NDc2...</td>\n",
       "      <td>1995</td>\n",
       "      <td>father_of_the_bride_part_ii</td>\n",
       "      <td>5.3</td>\n",
       "      <td>19</td>\n",
       "      <td>9</td>\n",
       "      <td>...</td>\n",
       "      <td>47</td>\n",
       "      <td>5.4</td>\n",
       "      <td>5</td>\n",
       "      <td>1</td>\n",
       "      <td>4</td>\n",
       "      <td>20</td>\n",
       "      <td>3</td>\n",
       "      <td>13761</td>\n",
       "      <td>64</td>\n",
       "      <td>http://content8.flixster.com/movie/25/54/25542...</td>\n",
       "    </tr>\n",
       "  </tbody>\n",
       "</table>\n",
       "<p>5 rows × 21 columns</p>\n",
       "</div>"
      ],
      "text/plain": [
       "   id                        title  imdbID  \\\n",
       "0   1                    Toy story  114709   \n",
       "1   2                      Jumanji  113497   \n",
       "2   3               Grumpy Old Men  107050   \n",
       "3   4            Waiting to Exhale  114885   \n",
       "4   5  Father of the Bride Part II  113041   \n",
       "\n",
       "                                        spanishTitle  \\\n",
       "0                               Toy story (juguetes)   \n",
       "1                                            Jumanji   \n",
       "2                                Dos viejos gruñones   \n",
       "3                               Esperando un respiro   \n",
       "4  Vuelve el padre de la novia (Ahora también abu...   \n",
       "\n",
       "                                      imdbPictureURL  year  \\\n",
       "0  http://ia.media-imdb.com/images/M/MV5BMTMwNDU0...  1995   \n",
       "1  http://ia.media-imdb.com/images/M/MV5BMzM5NjE1...  1995   \n",
       "2  http://ia.media-imdb.com/images/M/MV5BMTI5MTgy...  1993   \n",
       "3  http://ia.media-imdb.com/images/M/MV5BMTczMTMy...  1995   \n",
       "4  http://ia.media-imdb.com/images/M/MV5BMTg1NDc2...  1995   \n",
       "\n",
       "                          rtID rtAllCriticsRating rtAllCriticsNumReviews  \\\n",
       "0                    toy_story                  9                     73   \n",
       "1              1068044-jumanji                5.6                     28   \n",
       "2               grumpy_old_men                5.9                     36   \n",
       "3            waiting_to_exhale                5.6                     25   \n",
       "4  father_of_the_bride_part_ii                5.3                     19   \n",
       "\n",
       "  rtAllCriticsNumFresh  ... rtAllCriticsScore rtTopCriticsRating  \\\n",
       "0                   73  ...               100                8.5   \n",
       "1                   13  ...                46                5.8   \n",
       "2                   24  ...                66                  7   \n",
       "3                   14  ...                56                5.5   \n",
       "4                    9  ...                47                5.4   \n",
       "\n",
       "  rtTopCriticsNumReviews rtTopCriticsNumFresh rtTopCriticsNumRotten  \\\n",
       "0                     17                   17                     0   \n",
       "1                      5                    2                     3   \n",
       "2                      6                    5                     1   \n",
       "3                     11                    5                     6   \n",
       "4                      5                    1                     4   \n",
       "\n",
       "  rtTopCriticsScore rtAudienceRating rtAudienceNumRatings rtAudienceScore  \\\n",
       "0               100              3.7               102338              81   \n",
       "1                40              3.2                44587              61   \n",
       "2                83              3.2                10489              66   \n",
       "3                45              3.3                 5666              79   \n",
       "4                20                3                13761              64   \n",
       "\n",
       "                                        rtPictureURL  \n",
       "0  http://content7.flixster.com/movie/10/93/63/10...  \n",
       "1  http://content8.flixster.com/movie/56/79/73/56...  \n",
       "2  http://content6.flixster.com/movie/25/60/25602...  \n",
       "3  http://content9.flixster.com/movie/10/94/17/10...  \n",
       "4  http://content8.flixster.com/movie/25/54/25542...  \n",
       "\n",
       "[5 rows x 21 columns]"
      ]
     },
     "execution_count": 16,
     "metadata": {},
     "output_type": "execute_result"
    }
   ],
   "source": [
    "df_movies.head()"
   ]
  },
  {
   "cell_type": "code",
   "execution_count": 17,
   "id": "06aa332d-1406-418f-b794-90bb8567b4dc",
   "metadata": {},
   "outputs": [],
   "source": [
    "df_tags= pd.read_csv('all/tags.dat', sep='\\t', encoding='ISO-8859-1')"
   ]
  },
  {
   "cell_type": "code",
   "execution_count": 18,
   "id": "89524d9c-fa8d-4ff3-8f54-7af4383e050f",
   "metadata": {},
   "outputs": [
    {
     "data": {
      "text/html": [
       "<div>\n",
       "<style scoped>\n",
       "    .dataframe tbody tr th:only-of-type {\n",
       "        vertical-align: middle;\n",
       "    }\n",
       "\n",
       "    .dataframe tbody tr th {\n",
       "        vertical-align: top;\n",
       "    }\n",
       "\n",
       "    .dataframe thead th {\n",
       "        text-align: right;\n",
       "    }\n",
       "</style>\n",
       "<table border=\"1\" class=\"dataframe\">\n",
       "  <thead>\n",
       "    <tr style=\"text-align: right;\">\n",
       "      <th></th>\n",
       "      <th>id</th>\n",
       "      <th>value</th>\n",
       "    </tr>\n",
       "  </thead>\n",
       "  <tbody>\n",
       "    <tr>\n",
       "      <th>0</th>\n",
       "      <td>1</td>\n",
       "      <td>earth</td>\n",
       "    </tr>\n",
       "    <tr>\n",
       "      <th>1</th>\n",
       "      <td>2</td>\n",
       "      <td>police</td>\n",
       "    </tr>\n",
       "    <tr>\n",
       "      <th>2</th>\n",
       "      <td>3</td>\n",
       "      <td>boxing</td>\n",
       "    </tr>\n",
       "    <tr>\n",
       "      <th>3</th>\n",
       "      <td>4</td>\n",
       "      <td>painter</td>\n",
       "    </tr>\n",
       "    <tr>\n",
       "      <th>4</th>\n",
       "      <td>5</td>\n",
       "      <td>whale</td>\n",
       "    </tr>\n",
       "  </tbody>\n",
       "</table>\n",
       "</div>"
      ],
      "text/plain": [
       "   id    value\n",
       "0   1    earth\n",
       "1   2   police\n",
       "2   3   boxing\n",
       "3   4  painter\n",
       "4   5    whale"
      ]
     },
     "execution_count": 18,
     "metadata": {},
     "output_type": "execute_result"
    }
   ],
   "source": [
    "df_tags.head()"
   ]
  },
  {
   "cell_type": "code",
   "execution_count": 19,
   "id": "b66fddeb-a81e-4eea-a320-790635385253",
   "metadata": {},
   "outputs": [],
   "source": [
    "df_user_ratedmovies= pd.read_csv('all/user_ratedmovies.dat', sep='\\t', encoding='ISO-8859-1')"
   ]
  },
  {
   "cell_type": "code",
   "execution_count": 20,
   "id": "0f4de744-6d7e-40ef-8f90-7aa257dde3d8",
   "metadata": {},
   "outputs": [
    {
     "data": {
      "text/html": [
       "<div>\n",
       "<style scoped>\n",
       "    .dataframe tbody tr th:only-of-type {\n",
       "        vertical-align: middle;\n",
       "    }\n",
       "\n",
       "    .dataframe tbody tr th {\n",
       "        vertical-align: top;\n",
       "    }\n",
       "\n",
       "    .dataframe thead th {\n",
       "        text-align: right;\n",
       "    }\n",
       "</style>\n",
       "<table border=\"1\" class=\"dataframe\">\n",
       "  <thead>\n",
       "    <tr style=\"text-align: right;\">\n",
       "      <th></th>\n",
       "      <th>userID</th>\n",
       "      <th>movieID</th>\n",
       "      <th>rating</th>\n",
       "      <th>date_day</th>\n",
       "      <th>date_month</th>\n",
       "      <th>date_year</th>\n",
       "      <th>date_hour</th>\n",
       "      <th>date_minute</th>\n",
       "      <th>date_second</th>\n",
       "    </tr>\n",
       "  </thead>\n",
       "  <tbody>\n",
       "    <tr>\n",
       "      <th>0</th>\n",
       "      <td>75</td>\n",
       "      <td>3</td>\n",
       "      <td>1.0</td>\n",
       "      <td>29</td>\n",
       "      <td>10</td>\n",
       "      <td>2006</td>\n",
       "      <td>23</td>\n",
       "      <td>17</td>\n",
       "      <td>16</td>\n",
       "    </tr>\n",
       "    <tr>\n",
       "      <th>1</th>\n",
       "      <td>75</td>\n",
       "      <td>32</td>\n",
       "      <td>4.5</td>\n",
       "      <td>29</td>\n",
       "      <td>10</td>\n",
       "      <td>2006</td>\n",
       "      <td>23</td>\n",
       "      <td>23</td>\n",
       "      <td>44</td>\n",
       "    </tr>\n",
       "    <tr>\n",
       "      <th>2</th>\n",
       "      <td>75</td>\n",
       "      <td>110</td>\n",
       "      <td>4.0</td>\n",
       "      <td>29</td>\n",
       "      <td>10</td>\n",
       "      <td>2006</td>\n",
       "      <td>23</td>\n",
       "      <td>30</td>\n",
       "      <td>8</td>\n",
       "    </tr>\n",
       "    <tr>\n",
       "      <th>3</th>\n",
       "      <td>75</td>\n",
       "      <td>160</td>\n",
       "      <td>2.0</td>\n",
       "      <td>29</td>\n",
       "      <td>10</td>\n",
       "      <td>2006</td>\n",
       "      <td>23</td>\n",
       "      <td>16</td>\n",
       "      <td>52</td>\n",
       "    </tr>\n",
       "    <tr>\n",
       "      <th>4</th>\n",
       "      <td>75</td>\n",
       "      <td>163</td>\n",
       "      <td>4.0</td>\n",
       "      <td>29</td>\n",
       "      <td>10</td>\n",
       "      <td>2006</td>\n",
       "      <td>23</td>\n",
       "      <td>29</td>\n",
       "      <td>30</td>\n",
       "    </tr>\n",
       "  </tbody>\n",
       "</table>\n",
       "</div>"
      ],
      "text/plain": [
       "   userID  movieID  rating  date_day  date_month  date_year  date_hour  \\\n",
       "0      75        3     1.0        29          10       2006         23   \n",
       "1      75       32     4.5        29          10       2006         23   \n",
       "2      75      110     4.0        29          10       2006         23   \n",
       "3      75      160     2.0        29          10       2006         23   \n",
       "4      75      163     4.0        29          10       2006         23   \n",
       "\n",
       "   date_minute  date_second  \n",
       "0           17           16  \n",
       "1           23           44  \n",
       "2           30            8  \n",
       "3           16           52  \n",
       "4           29           30  "
      ]
     },
     "execution_count": 20,
     "metadata": {},
     "output_type": "execute_result"
    }
   ],
   "source": [
    "df_user_ratedmovies.head()"
   ]
  },
  {
   "cell_type": "code",
   "execution_count": 21,
   "id": "3f1b3191-308d-44f1-8a65-e77f7c43d98c",
   "metadata": {},
   "outputs": [],
   "source": [
    "df_user_ratedmovies_timestamps= pd.read_csv('all/user_ratedmovies-timestamps.dat', sep='\\t', encoding='ISO-8859-1')"
   ]
  },
  {
   "cell_type": "code",
   "execution_count": 22,
   "id": "e2ab3b62-bcbd-4ee8-9cd0-dc4716cf2640",
   "metadata": {},
   "outputs": [
    {
     "data": {
      "text/html": [
       "<div>\n",
       "<style scoped>\n",
       "    .dataframe tbody tr th:only-of-type {\n",
       "        vertical-align: middle;\n",
       "    }\n",
       "\n",
       "    .dataframe tbody tr th {\n",
       "        vertical-align: top;\n",
       "    }\n",
       "\n",
       "    .dataframe thead th {\n",
       "        text-align: right;\n",
       "    }\n",
       "</style>\n",
       "<table border=\"1\" class=\"dataframe\">\n",
       "  <thead>\n",
       "    <tr style=\"text-align: right;\">\n",
       "      <th></th>\n",
       "      <th>userID</th>\n",
       "      <th>movieID</th>\n",
       "      <th>rating</th>\n",
       "      <th>timestamp</th>\n",
       "    </tr>\n",
       "  </thead>\n",
       "  <tbody>\n",
       "    <tr>\n",
       "      <th>0</th>\n",
       "      <td>75</td>\n",
       "      <td>3</td>\n",
       "      <td>1.0</td>\n",
       "      <td>1162160236000</td>\n",
       "    </tr>\n",
       "    <tr>\n",
       "      <th>1</th>\n",
       "      <td>75</td>\n",
       "      <td>32</td>\n",
       "      <td>4.5</td>\n",
       "      <td>1162160624000</td>\n",
       "    </tr>\n",
       "    <tr>\n",
       "      <th>2</th>\n",
       "      <td>75</td>\n",
       "      <td>110</td>\n",
       "      <td>4.0</td>\n",
       "      <td>1162161008000</td>\n",
       "    </tr>\n",
       "    <tr>\n",
       "      <th>3</th>\n",
       "      <td>75</td>\n",
       "      <td>160</td>\n",
       "      <td>2.0</td>\n",
       "      <td>1162160212000</td>\n",
       "    </tr>\n",
       "    <tr>\n",
       "      <th>4</th>\n",
       "      <td>75</td>\n",
       "      <td>163</td>\n",
       "      <td>4.0</td>\n",
       "      <td>1162160970000</td>\n",
       "    </tr>\n",
       "  </tbody>\n",
       "</table>\n",
       "</div>"
      ],
      "text/plain": [
       "   userID  movieID  rating      timestamp\n",
       "0      75        3     1.0  1162160236000\n",
       "1      75       32     4.5  1162160624000\n",
       "2      75      110     4.0  1162161008000\n",
       "3      75      160     2.0  1162160212000\n",
       "4      75      163     4.0  1162160970000"
      ]
     },
     "execution_count": 22,
     "metadata": {},
     "output_type": "execute_result"
    }
   ],
   "source": [
    "df_user_ratedmovies_timestamps.head()"
   ]
  },
  {
   "cell_type": "code",
   "execution_count": 23,
   "id": "be60abe4-0314-4d29-a666-9a9224206cd5",
   "metadata": {},
   "outputs": [],
   "source": [
    "df_user_taggedmovies= pd.read_csv('all/user_taggedmovies.dat', sep='\\t', encoding='ISO-8859-1')"
   ]
  },
  {
   "cell_type": "code",
   "execution_count": 24,
   "id": "09590da7-06b6-4711-ab62-ab02c4b683c5",
   "metadata": {},
   "outputs": [
    {
     "data": {
      "text/html": [
       "<div>\n",
       "<style scoped>\n",
       "    .dataframe tbody tr th:only-of-type {\n",
       "        vertical-align: middle;\n",
       "    }\n",
       "\n",
       "    .dataframe tbody tr th {\n",
       "        vertical-align: top;\n",
       "    }\n",
       "\n",
       "    .dataframe thead th {\n",
       "        text-align: right;\n",
       "    }\n",
       "</style>\n",
       "<table border=\"1\" class=\"dataframe\">\n",
       "  <thead>\n",
       "    <tr style=\"text-align: right;\">\n",
       "      <th></th>\n",
       "      <th>userID</th>\n",
       "      <th>movieID</th>\n",
       "      <th>tagID</th>\n",
       "      <th>date_day</th>\n",
       "      <th>date_month</th>\n",
       "      <th>date_year</th>\n",
       "      <th>date_hour</th>\n",
       "      <th>date_minute</th>\n",
       "      <th>date_second</th>\n",
       "    </tr>\n",
       "  </thead>\n",
       "  <tbody>\n",
       "    <tr>\n",
       "      <th>0</th>\n",
       "      <td>75</td>\n",
       "      <td>353</td>\n",
       "      <td>5290</td>\n",
       "      <td>29</td>\n",
       "      <td>10</td>\n",
       "      <td>2006</td>\n",
       "      <td>23</td>\n",
       "      <td>20</td>\n",
       "      <td>15</td>\n",
       "    </tr>\n",
       "    <tr>\n",
       "      <th>1</th>\n",
       "      <td>78</td>\n",
       "      <td>4223</td>\n",
       "      <td>5264</td>\n",
       "      <td>16</td>\n",
       "      <td>4</td>\n",
       "      <td>2007</td>\n",
       "      <td>4</td>\n",
       "      <td>43</td>\n",
       "      <td>45</td>\n",
       "    </tr>\n",
       "    <tr>\n",
       "      <th>2</th>\n",
       "      <td>127</td>\n",
       "      <td>1343</td>\n",
       "      <td>1544</td>\n",
       "      <td>28</td>\n",
       "      <td>8</td>\n",
       "      <td>2007</td>\n",
       "      <td>3</td>\n",
       "      <td>42</td>\n",
       "      <td>27</td>\n",
       "    </tr>\n",
       "    <tr>\n",
       "      <th>3</th>\n",
       "      <td>127</td>\n",
       "      <td>1343</td>\n",
       "      <td>12330</td>\n",
       "      <td>28</td>\n",
       "      <td>8</td>\n",
       "      <td>2007</td>\n",
       "      <td>3</td>\n",
       "      <td>42</td>\n",
       "      <td>27</td>\n",
       "    </tr>\n",
       "    <tr>\n",
       "      <th>4</th>\n",
       "      <td>127</td>\n",
       "      <td>2080</td>\n",
       "      <td>1451</td>\n",
       "      <td>28</td>\n",
       "      <td>8</td>\n",
       "      <td>2007</td>\n",
       "      <td>3</td>\n",
       "      <td>42</td>\n",
       "      <td>47</td>\n",
       "    </tr>\n",
       "  </tbody>\n",
       "</table>\n",
       "</div>"
      ],
      "text/plain": [
       "   userID  movieID  tagID  date_day  date_month  date_year  date_hour  \\\n",
       "0      75      353   5290        29          10       2006         23   \n",
       "1      78     4223   5264        16           4       2007          4   \n",
       "2     127     1343   1544        28           8       2007          3   \n",
       "3     127     1343  12330        28           8       2007          3   \n",
       "4     127     2080   1451        28           8       2007          3   \n",
       "\n",
       "   date_minute  date_second  \n",
       "0           20           15  \n",
       "1           43           45  \n",
       "2           42           27  \n",
       "3           42           27  \n",
       "4           42           47  "
      ]
     },
     "execution_count": 24,
     "metadata": {},
     "output_type": "execute_result"
    }
   ],
   "source": [
    "df_user_taggedmovies.head()"
   ]
  },
  {
   "cell_type": "code",
   "execution_count": 25,
   "id": "6339ea04-4a74-425e-bcc6-9faf53144a45",
   "metadata": {},
   "outputs": [],
   "source": [
    "df_user_taggedmovies_timestamps= pd.read_csv('all/user_taggedmovies-timestamps.dat', sep='\\t', encoding='ISO-8859-1')"
   ]
  },
  {
   "cell_type": "code",
   "execution_count": 26,
   "id": "ebc5c76f-fd55-4dc4-9be1-f8c28542b372",
   "metadata": {},
   "outputs": [
    {
     "data": {
      "text/html": [
       "<div>\n",
       "<style scoped>\n",
       "    .dataframe tbody tr th:only-of-type {\n",
       "        vertical-align: middle;\n",
       "    }\n",
       "\n",
       "    .dataframe tbody tr th {\n",
       "        vertical-align: top;\n",
       "    }\n",
       "\n",
       "    .dataframe thead th {\n",
       "        text-align: right;\n",
       "    }\n",
       "</style>\n",
       "<table border=\"1\" class=\"dataframe\">\n",
       "  <thead>\n",
       "    <tr style=\"text-align: right;\">\n",
       "      <th></th>\n",
       "      <th>userID</th>\n",
       "      <th>movieID</th>\n",
       "      <th>tagID</th>\n",
       "      <th>timestamp</th>\n",
       "    </tr>\n",
       "  </thead>\n",
       "  <tbody>\n",
       "    <tr>\n",
       "      <th>0</th>\n",
       "      <td>75</td>\n",
       "      <td>353</td>\n",
       "      <td>5290</td>\n",
       "      <td>1162160415000</td>\n",
       "    </tr>\n",
       "    <tr>\n",
       "      <th>1</th>\n",
       "      <td>78</td>\n",
       "      <td>4223</td>\n",
       "      <td>5264</td>\n",
       "      <td>1176691425000</td>\n",
       "    </tr>\n",
       "    <tr>\n",
       "      <th>2</th>\n",
       "      <td>127</td>\n",
       "      <td>1343</td>\n",
       "      <td>1544</td>\n",
       "      <td>1188265347000</td>\n",
       "    </tr>\n",
       "    <tr>\n",
       "      <th>3</th>\n",
       "      <td>127</td>\n",
       "      <td>1343</td>\n",
       "      <td>12330</td>\n",
       "      <td>1188265347000</td>\n",
       "    </tr>\n",
       "    <tr>\n",
       "      <th>4</th>\n",
       "      <td>127</td>\n",
       "      <td>2080</td>\n",
       "      <td>1451</td>\n",
       "      <td>1188265367000</td>\n",
       "    </tr>\n",
       "  </tbody>\n",
       "</table>\n",
       "</div>"
      ],
      "text/plain": [
       "   userID  movieID  tagID      timestamp\n",
       "0      75      353   5290  1162160415000\n",
       "1      78     4223   5264  1176691425000\n",
       "2     127     1343   1544  1188265347000\n",
       "3     127     1343  12330  1188265347000\n",
       "4     127     2080   1451  1188265367000"
      ]
     },
     "execution_count": 26,
     "metadata": {},
     "output_type": "execute_result"
    }
   ],
   "source": [
    "df_user_taggedmovies_timestamps.head()"
   ]
  },
  {
   "cell_type": "code",
   "execution_count": 27,
   "id": "ae1b7611-4b0e-4b79-92f1-94e29040f7be",
   "metadata": {},
   "outputs": [
    {
     "data": {
      "text/html": [
       "<div>\n",
       "<style scoped>\n",
       "    .dataframe tbody tr th:only-of-type {\n",
       "        vertical-align: middle;\n",
       "    }\n",
       "\n",
       "    .dataframe tbody tr th {\n",
       "        vertical-align: top;\n",
       "    }\n",
       "\n",
       "    .dataframe thead th {\n",
       "        text-align: right;\n",
       "    }\n",
       "</style>\n",
       "<table border=\"1\" class=\"dataframe\">\n",
       "  <thead>\n",
       "    <tr style=\"text-align: right;\">\n",
       "      <th></th>\n",
       "      <th>userID</th>\n",
       "      <th>movieID</th>\n",
       "      <th>rating</th>\n",
       "      <th>timestamp</th>\n",
       "    </tr>\n",
       "  </thead>\n",
       "  <tbody>\n",
       "    <tr>\n",
       "      <th>0</th>\n",
       "      <td>75</td>\n",
       "      <td>3</td>\n",
       "      <td>1.0</td>\n",
       "      <td>1162160236000</td>\n",
       "    </tr>\n",
       "    <tr>\n",
       "      <th>1</th>\n",
       "      <td>75</td>\n",
       "      <td>32</td>\n",
       "      <td>4.5</td>\n",
       "      <td>1162160624000</td>\n",
       "    </tr>\n",
       "    <tr>\n",
       "      <th>2</th>\n",
       "      <td>75</td>\n",
       "      <td>110</td>\n",
       "      <td>4.0</td>\n",
       "      <td>1162161008000</td>\n",
       "    </tr>\n",
       "    <tr>\n",
       "      <th>3</th>\n",
       "      <td>75</td>\n",
       "      <td>160</td>\n",
       "      <td>2.0</td>\n",
       "      <td>1162160212000</td>\n",
       "    </tr>\n",
       "    <tr>\n",
       "      <th>4</th>\n",
       "      <td>75</td>\n",
       "      <td>163</td>\n",
       "      <td>4.0</td>\n",
       "      <td>1162160970000</td>\n",
       "    </tr>\n",
       "  </tbody>\n",
       "</table>\n",
       "</div>"
      ],
      "text/plain": [
       "   userID  movieID  rating      timestamp\n",
       "0      75        3     1.0  1162160236000\n",
       "1      75       32     4.5  1162160624000\n",
       "2      75      110     4.0  1162161008000\n",
       "3      75      160     2.0  1162160212000\n",
       "4      75      163     4.0  1162160970000"
      ]
     },
     "execution_count": 27,
     "metadata": {},
     "output_type": "execute_result"
    }
   ],
   "source": [
    "# Explore the content of the loaded data and obtain some statistics\n",
    "\n",
    "df_user_ratedmovies_timestamps.head()"
   ]
  },
  {
   "cell_type": "code",
   "execution_count": 28,
   "id": "9d20c783-8873-46ad-8b5b-b59543f1bddf",
   "metadata": {},
   "outputs": [
    {
     "data": {
      "text/html": [
       "<div>\n",
       "<style scoped>\n",
       "    .dataframe tbody tr th:only-of-type {\n",
       "        vertical-align: middle;\n",
       "    }\n",
       "\n",
       "    .dataframe tbody tr th {\n",
       "        vertical-align: top;\n",
       "    }\n",
       "\n",
       "    .dataframe thead th {\n",
       "        text-align: right;\n",
       "    }\n",
       "</style>\n",
       "<table border=\"1\" class=\"dataframe\">\n",
       "  <thead>\n",
       "    <tr style=\"text-align: right;\">\n",
       "      <th></th>\n",
       "      <th>userID</th>\n",
       "      <th>movieID</th>\n",
       "      <th>rating</th>\n",
       "      <th>timestamp</th>\n",
       "    </tr>\n",
       "  </thead>\n",
       "  <tbody>\n",
       "    <tr>\n",
       "      <th>count</th>\n",
       "      <td>855598.000000</td>\n",
       "      <td>855598.000000</td>\n",
       "      <td>855598.000000</td>\n",
       "      <td>8.555980e+05</td>\n",
       "    </tr>\n",
       "    <tr>\n",
       "      <th>mean</th>\n",
       "      <td>35190.832551</td>\n",
       "      <td>8710.179402</td>\n",
       "      <td>3.437945</td>\n",
       "      <td>1.130530e+12</td>\n",
       "    </tr>\n",
       "    <tr>\n",
       "      <th>std</th>\n",
       "      <td>20385.003347</td>\n",
       "      <td>14446.852908</td>\n",
       "      <td>1.002561</td>\n",
       "      <td>7.178767e+10</td>\n",
       "    </tr>\n",
       "    <tr>\n",
       "      <th>min</th>\n",
       "      <td>75.000000</td>\n",
       "      <td>1.000000</td>\n",
       "      <td>0.500000</td>\n",
       "      <td>8.745324e+11</td>\n",
       "    </tr>\n",
       "    <tr>\n",
       "      <th>25%</th>\n",
       "      <td>18161.000000</td>\n",
       "      <td>1367.000000</td>\n",
       "      <td>3.000000</td>\n",
       "      <td>1.092553e+12</td>\n",
       "    </tr>\n",
       "    <tr>\n",
       "      <th>50%</th>\n",
       "      <td>33866.000000</td>\n",
       "      <td>3249.000000</td>\n",
       "      <td>3.500000</td>\n",
       "      <td>1.144843e+12</td>\n",
       "    </tr>\n",
       "    <tr>\n",
       "      <th>75%</th>\n",
       "      <td>52004.000000</td>\n",
       "      <td>6534.000000</td>\n",
       "      <td>4.000000</td>\n",
       "      <td>1.184265e+12</td>\n",
       "    </tr>\n",
       "    <tr>\n",
       "      <th>max</th>\n",
       "      <td>71534.000000</td>\n",
       "      <td>65133.000000</td>\n",
       "      <td>5.000000</td>\n",
       "      <td>1.231130e+12</td>\n",
       "    </tr>\n",
       "  </tbody>\n",
       "</table>\n",
       "</div>"
      ],
      "text/plain": [
       "              userID        movieID         rating     timestamp\n",
       "count  855598.000000  855598.000000  855598.000000  8.555980e+05\n",
       "mean    35190.832551    8710.179402       3.437945  1.130530e+12\n",
       "std     20385.003347   14446.852908       1.002561  7.178767e+10\n",
       "min        75.000000       1.000000       0.500000  8.745324e+11\n",
       "25%     18161.000000    1367.000000       3.000000  1.092553e+12\n",
       "50%     33866.000000    3249.000000       3.500000  1.144843e+12\n",
       "75%     52004.000000    6534.000000       4.000000  1.184265e+12\n",
       "max     71534.000000   65133.000000       5.000000  1.231130e+12"
      ]
     },
     "execution_count": 28,
     "metadata": {},
     "output_type": "execute_result"
    }
   ],
   "source": [
    "df_user_ratedmovies_timestamps.describe()"
   ]
  },
  {
   "cell_type": "code",
   "execution_count": 29,
   "id": "ff39ebe4-5177-4b12-bfdf-ca79ec36fb4e",
   "metadata": {},
   "outputs": [
    {
     "name": "stdout",
     "output_type": "stream",
     "text": [
      "<class 'pandas.core.frame.DataFrame'>\n",
      "RangeIndex: 855598 entries, 0 to 855597\n",
      "Data columns (total 4 columns):\n",
      " #   Column     Non-Null Count   Dtype  \n",
      "---  ------     --------------   -----  \n",
      " 0   userID     855598 non-null  int64  \n",
      " 1   movieID    855598 non-null  int64  \n",
      " 2   rating     855598 non-null  float64\n",
      " 3   timestamp  855598 non-null  int64  \n",
      "dtypes: float64(1), int64(3)\n",
      "memory usage: 26.1 MB\n"
     ]
    }
   ],
   "source": [
    "df_user_ratedmovies_timestamps.info()"
   ]
  },
  {
   "cell_type": "code",
   "execution_count": 30,
   "id": "f21f286f-2ff9-4463-bbf3-9bf035792665",
   "metadata": {},
   "outputs": [
    {
     "data": {
      "text/plain": [
       "6757     3410\n",
       "30687    2908\n",
       "30500    2823\n",
       "62332    2763\n",
       "51033    2631\n",
       "         ... \n",
       "54250      20\n",
       "48803      20\n",
       "26873      20\n",
       "28180      20\n",
       "59995      20\n",
       "Name: userID, Length: 2113, dtype: int64"
      ]
     },
     "execution_count": 30,
     "metadata": {},
     "output_type": "execute_result"
    }
   ],
   "source": [
    "df_user_ratedmovies_timestamps['userID'].value_counts(dropna=False)"
   ]
  },
  {
   "cell_type": "code",
   "execution_count": 31,
   "id": "4acb59db-7d39-42fc-8337-d29a1e512ecd",
   "metadata": {},
   "outputs": [
    {
     "data": {
      "text/plain": [
       "2113"
      ]
     },
     "execution_count": 31,
     "metadata": {},
     "output_type": "execute_result"
    }
   ],
   "source": [
    "df_user_ratedmovies_timestamps['userID'].value_counts(dropna=False).count()"
   ]
  },
  {
   "cell_type": "code",
   "execution_count": 32,
   "id": "19953959-fe54-4e01-8277-19f5f4c4e7a4",
   "metadata": {},
   "outputs": [
    {
     "data": {
      "text/plain": [
       "2571    1670\n",
       "4993    1576\n",
       "356     1568\n",
       "296     1537\n",
       "5952    1528\n",
       "        ... \n",
       "6138       1\n",
       "6274       1\n",
       "1386       1\n",
       "7109       1\n",
       "8393       1\n",
       "Name: movieID, Length: 10109, dtype: int64"
      ]
     },
     "execution_count": 32,
     "metadata": {},
     "output_type": "execute_result"
    }
   ],
   "source": [
    "df_user_ratedmovies_timestamps['movieID'].value_counts(dropna=False)"
   ]
  },
  {
   "cell_type": "code",
   "execution_count": 33,
   "id": "d32fefe0-8a20-4d12-8c8f-4286f410400d",
   "metadata": {},
   "outputs": [
    {
     "data": {
      "text/plain": [
       "10109"
      ]
     },
     "execution_count": 33,
     "metadata": {},
     "output_type": "execute_result"
    }
   ],
   "source": [
    "df_user_ratedmovies_timestamps['movieID'].value_counts(dropna=False).count()"
   ]
  },
  {
   "cell_type": "code",
   "execution_count": 34,
   "id": "1acfcf43-278e-4aef-8097-89da611faf2e",
   "metadata": {},
   "outputs": [
    {
     "data": {
      "text/plain": [
       "userID  movieID\n",
       "75      3          1\n",
       "46085   52462      1\n",
       "        41425      1\n",
       "        41527      1\n",
       "        41569      1\n",
       "                  ..\n",
       "23753   34048      1\n",
       "        34150      1\n",
       "        34162      1\n",
       "        35836      1\n",
       "71534   62049      1\n",
       "Length: 855598, dtype: int64"
      ]
     },
     "execution_count": 34,
     "metadata": {},
     "output_type": "execute_result"
    }
   ],
   "source": [
    "# number of interaction between users and movies\n",
    "df_user_ratedmovies_timestamps[['userID','movieID']].value_counts(dropna=False)"
   ]
  },
  {
   "cell_type": "code",
   "execution_count": 35,
   "id": "7190569f-b68f-4508-9921-714330a75e36",
   "metadata": {},
   "outputs": [
    {
     "data": {
      "text/plain": [
       "855598"
      ]
     },
     "execution_count": 35,
     "metadata": {},
     "output_type": "execute_result"
    }
   ],
   "source": [
    "df_user_ratedmovies_timestamps[['userID','movieID']].value_counts(dropna=False).count()"
   ]
  },
  {
   "cell_type": "code",
   "execution_count": 36,
   "id": "08f0e48c-6d51-4753-97fc-5ceef0e4fc23",
   "metadata": {},
   "outputs": [
    {
     "name": "stdout",
     "output_type": "stream",
     "text": [
      "the density is: 0.040055491685820954\n",
      "the sparsity is: 0.9599445083141791\n"
     ]
    }
   ],
   "source": [
    "# A related statistic that tells us how difficult the recommendation task will be is the density of the dataset\n",
    "# a) the number of ratings we have available in the system\n",
    "# b) the number of ratings we would have if all users rated everything\n",
    "\n",
    "# density is: a/b, so:\n",
    "\n",
    "density = 855598/ (2113 * 10109)\n",
    "print('the density is:', density)\n",
    "# density = 1 - sparsity\n",
    "# sparsity is:\n",
    "sparsity = 1-density\n",
    "print('the sparsity is:', sparsity)"
   ]
  },
  {
   "cell_type": "code",
   "execution_count": 37,
   "id": "a88addeb-f301-44b6-b318-052f6059cda4",
   "metadata": {},
   "outputs": [
    {
     "data": {
      "text/html": [
       "<div>\n",
       "<style scoped>\n",
       "    .dataframe tbody tr th:only-of-type {\n",
       "        vertical-align: middle;\n",
       "    }\n",
       "\n",
       "    .dataframe tbody tr th {\n",
       "        vertical-align: top;\n",
       "    }\n",
       "\n",
       "    .dataframe thead th {\n",
       "        text-align: right;\n",
       "    }\n",
       "</style>\n",
       "<table border=\"1\" class=\"dataframe\">\n",
       "  <thead>\n",
       "    <tr style=\"text-align: right;\">\n",
       "      <th></th>\n",
       "      <th>userID</th>\n",
       "      <th>movieID</th>\n",
       "      <th>rating</th>\n",
       "      <th>timestamp</th>\n",
       "    </tr>\n",
       "  </thead>\n",
       "  <tbody>\n",
       "    <tr>\n",
       "      <th>0</th>\n",
       "      <td>75</td>\n",
       "      <td>3</td>\n",
       "      <td>1.0</td>\n",
       "      <td>1162160236000</td>\n",
       "    </tr>\n",
       "    <tr>\n",
       "      <th>1</th>\n",
       "      <td>75</td>\n",
       "      <td>32</td>\n",
       "      <td>4.5</td>\n",
       "      <td>1162160624000</td>\n",
       "    </tr>\n",
       "    <tr>\n",
       "      <th>2</th>\n",
       "      <td>75</td>\n",
       "      <td>110</td>\n",
       "      <td>4.0</td>\n",
       "      <td>1162161008000</td>\n",
       "    </tr>\n",
       "    <tr>\n",
       "      <th>3</th>\n",
       "      <td>75</td>\n",
       "      <td>160</td>\n",
       "      <td>2.0</td>\n",
       "      <td>1162160212000</td>\n",
       "    </tr>\n",
       "    <tr>\n",
       "      <th>4</th>\n",
       "      <td>75</td>\n",
       "      <td>163</td>\n",
       "      <td>4.0</td>\n",
       "      <td>1162160970000</td>\n",
       "    </tr>\n",
       "    <tr>\n",
       "      <th>5</th>\n",
       "      <td>75</td>\n",
       "      <td>165</td>\n",
       "      <td>4.5</td>\n",
       "      <td>1162160715000</td>\n",
       "    </tr>\n",
       "    <tr>\n",
       "      <th>6</th>\n",
       "      <td>75</td>\n",
       "      <td>173</td>\n",
       "      <td>3.5</td>\n",
       "      <td>1162160257000</td>\n",
       "    </tr>\n",
       "    <tr>\n",
       "      <th>7</th>\n",
       "      <td>75</td>\n",
       "      <td>296</td>\n",
       "      <td>5.0</td>\n",
       "      <td>1162160689000</td>\n",
       "    </tr>\n",
       "    <tr>\n",
       "      <th>8</th>\n",
       "      <td>75</td>\n",
       "      <td>353</td>\n",
       "      <td>3.5</td>\n",
       "      <td>1162160220000</td>\n",
       "    </tr>\n",
       "    <tr>\n",
       "      <th>9</th>\n",
       "      <td>75</td>\n",
       "      <td>420</td>\n",
       "      <td>2.0</td>\n",
       "      <td>1162160202000</td>\n",
       "    </tr>\n",
       "  </tbody>\n",
       "</table>\n",
       "</div>"
      ],
      "text/plain": [
       "   userID  movieID  rating      timestamp\n",
       "0      75        3     1.0  1162160236000\n",
       "1      75       32     4.5  1162160624000\n",
       "2      75      110     4.0  1162161008000\n",
       "3      75      160     2.0  1162160212000\n",
       "4      75      163     4.0  1162160970000\n",
       "5      75      165     4.5  1162160715000\n",
       "6      75      173     3.5  1162160257000\n",
       "7      75      296     5.0  1162160689000\n",
       "8      75      353     3.5  1162160220000\n",
       "9      75      420     2.0  1162160202000"
      ]
     },
     "execution_count": 37,
     "metadata": {},
     "output_type": "execute_result"
    }
   ],
   "source": [
    "df_user_ratedmovies_timestamps.head(10)"
   ]
  },
  {
   "cell_type": "code",
   "execution_count": 38,
   "id": "ddc8fdf7-06ae-438f-83e2-ce8afb2952b4",
   "metadata": {},
   "outputs": [
    {
     "data": {
      "text/plain": [
       "array([215773, 155918, 150582,  88652,  71680,  62454,  57188,  21535,\n",
       "        18328,  13488], dtype=int64)"
      ]
     },
     "execution_count": 38,
     "metadata": {},
     "output_type": "execute_result"
    }
   ],
   "source": [
    "df_user_ratedmovies_timestamps['rating'].value_counts(dropna=False).values"
   ]
  },
  {
   "cell_type": "code",
   "execution_count": 39,
   "id": "e7cb5693-6f29-4b7d-b3f5-537d5f1ea536",
   "metadata": {},
   "outputs": [
    {
     "data": {
      "image/png": "[encoded data removed]",
      "text/plain": [
       "<Figure size 640x480 with 1 Axes>"
      ]
     },
     "metadata": {},
     "output_type": "display_data"
    }
   ],
   "source": [
    "# histogram of the rating values\n",
    "\n",
    "df_user_ratedmovies_timestamps['rating'].plot.hist(bins=10, edgecolor= 'black')\n",
    "plt.xlabel('Ratings')\n",
    "plt.ylabel('Frequency')\n",
    "plt.title('Histogram of Ratings')\n",
    "plt.show()"
   ]
  },
  {
   "cell_type": "code",
   "execution_count": 40,
   "id": "9afec786-c74e-4715-a4e8-19c379eebc8d",
   "metadata": {},
   "outputs": [],
   "source": [
    "# plot the distribution of movieID on a log scale (to show the diagram of how many ratings we have for each movie) -----log of data"
   ]
  },
  {
   "cell_type": "code",
   "execution_count": 41,
   "id": "1b2051cc-b7ec-4d2c-9239-e1e40f0aed3e",
   "metadata": {},
   "outputs": [
    {
     "data": {
      "text/plain": [
       "array([7.42057891, 7.36264527, 7.3575562 , ..., 0.        , 0.        ,\n",
       "       0.        ])"
      ]
     },
     "execution_count": 41,
     "metadata": {},
     "output_type": "execute_result"
    }
   ],
   "source": [
    "np.log(df_user_ratedmovies_timestamps['movieID'].value_counts(dropna=False).values)"
   ]
  },
  {
   "cell_type": "code",
   "execution_count": 42,
   "id": "6d479874-d3df-4432-a66c-513bdba72c48",
   "metadata": {},
   "outputs": [],
   "source": [
    "y = np.log(df_user_ratedmovies_timestamps['movieID'].value_counts(dropna=False).values)"
   ]
  },
  {
   "cell_type": "code",
   "execution_count": 43,
   "id": "3c1ab3b7-8ab7-4653-89fe-0b262e6c30a9",
   "metadata": {},
   "outputs": [],
   "source": [
    "x = range(df_user_ratedmovies_timestamps['movieID'].nunique())"
   ]
  },
  {
   "cell_type": "code",
   "execution_count": 44,
   "id": "f18fb229-27a9-4281-bd19-370ec796ef15",
   "metadata": {},
   "outputs": [
    {
     "data": {
      "text/plain": [
       "range(0, 10109)"
      ]
     },
     "execution_count": 44,
     "metadata": {},
     "output_type": "execute_result"
    }
   ],
   "source": [
    "x"
   ]
  },
  {
   "cell_type": "code",
   "execution_count": 45,
   "id": "df5ffb8c-8402-4d16-b79d-5bb682098d66",
   "metadata": {},
   "outputs": [
    {
     "data": {
      "text/plain": [
       "[<matplotlib.lines.Line2D at 0x25004415a20>]"
      ]
     },
     "execution_count": 45,
     "metadata": {},
     "output_type": "execute_result"
    },
    {
     "data": {
      "image/png": "[encoded data removed]",
      "text/plain": [
       "<Figure size 640x480 with 1 Axes>"
      ]
     },
     "metadata": {},
     "output_type": "display_data"
    }
   ],
   "source": [
    "plt.plot(x, y)"
   ]
  },
  {
   "cell_type": "code",
   "execution_count": 46,
   "id": "8b0ea0b7-7fb7-4534-a0d0-221d670d5ee7",
   "metadata": {},
   "outputs": [],
   "source": [
    "# plot the distribution of movieID on a log scale (to show the diagram of how many ratings we have for each movie) -----original data"
   ]
  },
  {
   "cell_type": "code",
   "execution_count": 47,
   "id": "349aa517-242c-4d19-a6ac-1353b145cd63",
   "metadata": {},
   "outputs": [],
   "source": [
    "y = df_user_ratedmovies_timestamps['movieID'].value_counts(dropna=False).values"
   ]
  },
  {
   "cell_type": "code",
   "execution_count": 48,
   "id": "4c11a5d2-41f1-4afa-9e25-983e7a864e4d",
   "metadata": {},
   "outputs": [],
   "source": [
    "x = range(df_user_ratedmovies_timestamps['movieID'].nunique())"
   ]
  },
  {
   "cell_type": "code",
   "execution_count": 49,
   "id": "51d3d2fc-8932-4ef2-9e3c-7600bb60e11b",
   "metadata": {},
   "outputs": [
    {
     "data": {
      "text/plain": [
       "[<matplotlib.lines.Line2D at 0x250037b7be0>]"
      ]
     },
     "execution_count": 49,
     "metadata": {},
     "output_type": "execute_result"
    },
    {
     "data": {
      "image/png": "[encoded data removed]",
      "text/plain": [
       "<Figure size 640x480 with 1 Axes>"
      ]
     },
     "metadata": {},
     "output_type": "display_data"
    }
   ],
   "source": [
    "plt.plot(x, y)"
   ]
  },
  {
   "cell_type": "code",
   "execution_count": 50,
   "id": "3482420a-c541-462e-9719-a1cd9f88b562",
   "metadata": {},
   "outputs": [],
   "source": [
    "# plot the distribution of userID on a log scale (to show the diagram of how many ratings we have for each user) -----log of data"
   ]
  },
  {
   "cell_type": "code",
   "execution_count": 51,
   "id": "6001d322-eb6d-4b7a-81e9-e520aa2d51ba",
   "metadata": {},
   "outputs": [
    {
     "data": {
      "text/plain": [
       "array([8.13446757, 7.97522084, 7.94555543, ..., 2.99573227, 2.99573227,\n",
       "       2.99573227])"
      ]
     },
     "execution_count": 51,
     "metadata": {},
     "output_type": "execute_result"
    }
   ],
   "source": [
    "np.log(df_user_ratedmovies_timestamps['userID'].value_counts(dropna=False).values)"
   ]
  },
  {
   "cell_type": "code",
   "execution_count": 52,
   "id": "1b050fe3-cf89-4e1a-be5d-ee715876917e",
   "metadata": {},
   "outputs": [],
   "source": [
    "y = np.log(df_user_ratedmovies_timestamps['userID'].value_counts(dropna=False).values)"
   ]
  },
  {
   "cell_type": "code",
   "execution_count": 53,
   "id": "9c31e3c9-f06e-44f0-886b-f61cc6b27178",
   "metadata": {},
   "outputs": [],
   "source": [
    "x = range(df_user_ratedmovies_timestamps['userID'].nunique())"
   ]
  },
  {
   "cell_type": "code",
   "execution_count": 54,
   "id": "262e4cb8-5c5b-4b54-915a-c95c86729948",
   "metadata": {},
   "outputs": [
    {
     "data": {
      "text/plain": [
       "[<matplotlib.lines.Line2D at 0x25003849e70>]"
      ]
     },
     "execution_count": 54,
     "metadata": {},
     "output_type": "execute_result"
    },
    {
     "data": {
      "image/png": "[encoded data removed]",
      "text/plain": [
       "<Figure size 640x480 with 1 Axes>"
      ]
     },
     "metadata": {},
     "output_type": "display_data"
    }
   ],
   "source": [
    "plt.plot(x,y)"
   ]
  },
  {
   "cell_type": "code",
   "execution_count": 55,
   "id": "a75a6178-5387-4fe6-ad07-e02ddbdf45ce",
   "metadata": {},
   "outputs": [],
   "source": [
    "# plot the distribution of userID on a log scale (to show the diagram of how many ratings we have for each user) -----original data"
   ]
  },
  {
   "cell_type": "code",
   "execution_count": 56,
   "id": "4f4e3f8c-5cbf-41af-82f5-a71a83a1ce0c",
   "metadata": {},
   "outputs": [],
   "source": [
    "y = df_user_ratedmovies_timestamps['userID'].value_counts(dropna=False).values"
   ]
  },
  {
   "cell_type": "code",
   "execution_count": 57,
   "id": "1a6a2743-ac20-4ef3-8f8b-bef6b7220990",
   "metadata": {},
   "outputs": [],
   "source": [
    "x = range(df_user_ratedmovies_timestamps['userID'].nunique())"
   ]
  },
  {
   "cell_type": "code",
   "execution_count": 58,
   "id": "90741ff4-37b1-4578-af8b-693927758cfd",
   "metadata": {},
   "outputs": [
    {
     "data": {
      "text/plain": [
       "[<matplotlib.lines.Line2D at 0x25003b4a8f0>]"
      ]
     },
     "execution_count": 58,
     "metadata": {},
     "output_type": "execute_result"
    },
    {
     "data": {
      "image/png": "[encoded data removed]",
      "text/plain": [
       "<Figure size 640x480 with 1 Axes>"
      ]
     },
     "metadata": {},
     "output_type": "display_data"
    }
   ],
   "source": [
    "plt.plot(x,y)"
   ]
  },
  {
   "cell_type": "code",
   "execution_count": 59,
   "id": "414b22ca-0e45-4da6-b515-3d91ad95055c",
   "metadata": {},
   "outputs": [],
   "source": [
    "# These two diagrams can be replaced by KDE plots"
   ]
  },
  {
   "cell_type": "code",
   "execution_count": 60,
   "id": "3e364ca3-158b-48e7-a5b9-2ec27001fadb",
   "metadata": {},
   "outputs": [
    {
     "name": "stderr",
     "output_type": "stream",
     "text": [
      "C:\\Users\\enabi\\AppData\\Local\\Temp\\ipykernel_14088\\1939954451.py:2: FutureWarning: \n",
      "\n",
      "`shade` is now deprecated in favor of `fill`; setting `fill=True`.\n",
      "This will become an error in seaborn v0.14.0; please update your code.\n",
      "\n",
      "  sns.kdeplot(df_user_ratedmovies_timestamps['userID'].value_counts(dropna=False).values, color='b', shade=True)\n"
     ]
    },
    {
     "data": {
      "text/plain": [
       "Text(0, 0.5, 'Probability Density')"
      ]
     },
     "execution_count": 60,
     "metadata": {},
     "output_type": "execute_result"
    },
    {
     "data": {
      "image/png": "[encoded data removed]",
      "text/plain": [
       "<Figure size 640x480 with 1 Axes>"
      ]
     },
     "metadata": {},
     "output_type": "display_data"
    }
   ],
   "source": [
    "# Plotting the KDE Plot for user ID - original\n",
    "sns.kdeplot(df_user_ratedmovies_timestamps['userID'].value_counts(dropna=False).values, color='b', shade=True)\n",
    "  \n",
    "# Setting the X and Y Label\n",
    "plt.xlabel('userID')\n",
    "plt.ylabel('Probability Density')"
   ]
  },
  {
   "cell_type": "code",
   "execution_count": 61,
   "id": "5ae9c1f0-5336-4a42-8ed6-c24ce44609fd",
   "metadata": {},
   "outputs": [
    {
     "data": {
      "text/plain": [
       "<Axes: >"
      ]
     },
     "execution_count": 61,
     "metadata": {},
     "output_type": "execute_result"
    },
    {
     "data": {
      "image/png": "[encoded data removed]",
      "text/plain": [
       "<Figure size 640x480 with 1 Axes>"
      ]
     },
     "metadata": {},
     "output_type": "display_data"
    }
   ],
   "source": [
    "df_user_ratedmovies_timestamps['userID'].hist()"
   ]
  },
  {
   "cell_type": "code",
   "execution_count": 62,
   "id": "0e381a46-597a-47d1-99ba-1d56ee6ee1cc",
   "metadata": {},
   "outputs": [
    {
     "data": {
      "text/plain": [
       "<Axes: xlabel='userID'>"
      ]
     },
     "execution_count": 62,
     "metadata": {},
     "output_type": "execute_result"
    },
    {
     "data": {
      "image/png": "[encoded data removed]",
      "text/plain": [
       "<Figure size 640x480 with 1 Axes>"
      ]
     },
     "metadata": {},
     "output_type": "display_data"
    }
   ],
   "source": [
    "df_user_ratedmovies_timestamps.groupby(['userID'])['rating'].count().plot(kind='bar')"
   ]
  },
  {
   "cell_type": "code",
   "execution_count": 63,
   "id": "88590dd6-6de7-4a5a-a047-475b899ad22e",
   "metadata": {},
   "outputs": [
    {
     "name": "stderr",
     "output_type": "stream",
     "text": [
      "C:\\Users\\enabi\\AppData\\Local\\Temp\\ipykernel_14088\\2147656595.py:2: FutureWarning: \n",
      "\n",
      "`shade` is now deprecated in favor of `fill`; setting `fill=True`.\n",
      "This will become an error in seaborn v0.14.0; please update your code.\n",
      "\n",
      "  sns.kdeplot(df_user_ratedmovies_timestamps['userID'], color='b', shade=True)\n"
     ]
    },
    {
     "data": {
      "text/plain": [
       "Text(0, 0.5, 'Probability Density')"
      ]
     },
     "execution_count": 63,
     "metadata": {},
     "output_type": "execute_result"
    },
    {
     "data": {
      "image/png": "[encoded data removed]",
      "text/plain": [
       "<Figure size 640x480 with 1 Axes>"
      ]
     },
     "metadata": {},
     "output_type": "display_data"
    }
   ],
   "source": [
    "# Plotting the KDE Plot for user ID \n",
    "sns.kdeplot(df_user_ratedmovies_timestamps['userID'], color='b', shade=True)\n",
    "  \n",
    "# Setting the X and Y Label\n",
    "plt.xlabel('userID')\n",
    "plt.ylabel('Probability Density')"
   ]
  },
  {
   "cell_type": "code",
   "execution_count": 64,
   "id": "8622ccfd-0570-4dcc-ba0e-e5469dce931c",
   "metadata": {},
   "outputs": [
    {
     "name": "stderr",
     "output_type": "stream",
     "text": [
      "C:\\Users\\enabi\\AppData\\Local\\Temp\\ipykernel_14088\\3469957836.py:2: FutureWarning: \n",
      "\n",
      "`shade` is now deprecated in favor of `fill`; setting `fill=True`.\n",
      "This will become an error in seaborn v0.14.0; please update your code.\n",
      "\n",
      "  sns.kdeplot(df_user_ratedmovies_timestamps['movieID'].value_counts(dropna=False).values, color='r', shade=True)\n"
     ]
    },
    {
     "data": {
      "text/plain": [
       "Text(0, 0.5, 'Probability Density')"
      ]
     },
     "execution_count": 64,
     "metadata": {},
     "output_type": "execute_result"
    },
    {
     "data": {
      "image/png": "[encoded data removed]",
      "text/plain": [
       "<Figure size 640x480 with 1 Axes>"
      ]
     },
     "metadata": {},
     "output_type": "display_data"
    }
   ],
   "source": [
    "# Plotting the KDE Plot for movie ID - original\n",
    "sns.kdeplot(df_user_ratedmovies_timestamps['movieID'].value_counts(dropna=False).values, color='r', shade=True)\n",
    "  \n",
    "# Setting the X and Y Label\n",
    "plt.xlabel('movieID')\n",
    "plt.ylabel('Probability Density')"
   ]
  },
  {
   "cell_type": "code",
   "execution_count": 65,
   "id": "1bfec621-d761-4edf-9fef-885e9b8644cc",
   "metadata": {},
   "outputs": [
    {
     "name": "stderr",
     "output_type": "stream",
     "text": [
      "C:\\Users\\enabi\\AppData\\Local\\Temp\\ipykernel_14088\\3280128708.py:2: FutureWarning: \n",
      "\n",
      "`shade` is now deprecated in favor of `fill`; setting `fill=True`.\n",
      "This will become an error in seaborn v0.14.0; please update your code.\n",
      "\n",
      "  sns.kdeplot(df_user_ratedmovies_timestamps['movieID'], color='r', shade=True)\n"
     ]
    },
    {
     "data": {
      "text/plain": [
       "Text(0, 0.5, 'Probability Density')"
      ]
     },
     "execution_count": 65,
     "metadata": {},
     "output_type": "execute_result"
    },
    {
     "data": {
      "image/png": "[encoded data removed]",
      "text/plain": [
       "<Figure size 640x480 with 1 Axes>"
      ]
     },
     "metadata": {},
     "output_type": "display_data"
    }
   ],
   "source": [
    "# Plotting the KDE Plot for movie ID - original\n",
    "sns.kdeplot(df_user_ratedmovies_timestamps['movieID'], color='r', shade=True)\n",
    "  \n",
    "# Setting the X and Y Label\n",
    "plt.xlabel('movieID')\n",
    "plt.ylabel('Probability Density')"
   ]
  },
  {
   "cell_type": "code",
   "execution_count": 66,
   "id": "df18b760-a292-48f4-a1c4-570dc1fb7b17",
   "metadata": {},
   "outputs": [
    {
     "name": "stderr",
     "output_type": "stream",
     "text": [
      "C:\\Users\\enabi\\AppData\\Local\\Temp\\ipykernel_14088\\1844013345.py:2: FutureWarning: \n",
      "\n",
      "`shade` is now deprecated in favor of `fill`; setting `fill=True`.\n",
      "This will become an error in seaborn v0.14.0; please update your code.\n",
      "\n",
      "  sns.kdeplot(df_user_ratedmovies_timestamps['userID'], color='b', shade=True)\n",
      "C:\\Users\\enabi\\AppData\\Local\\Temp\\ipykernel_14088\\1844013345.py:4: FutureWarning: \n",
      "\n",
      "`shade` is now deprecated in favor of `fill`; setting `fill=True`.\n",
      "This will become an error in seaborn v0.14.0; please update your code.\n",
      "\n",
      "  sns.kdeplot(df_user_ratedmovies_timestamps['movieID'], color='r', shade=True)\n"
     ]
    },
    {
     "data": {
      "text/plain": [
       "Text(0, 0.5, 'Probability Density')"
      ]
     },
     "execution_count": 66,
     "metadata": {},
     "output_type": "execute_result"
    },
    {
     "data": {
      "image/png": "[encoded data removed]",
      "text/plain": [
       "<Figure size 640x480 with 1 Axes>"
      ]
     },
     "metadata": {},
     "output_type": "display_data"
    }
   ],
   "source": [
    "# Plotting the KDE Plot\n",
    "sns.kdeplot(df_user_ratedmovies_timestamps['userID'], color='b', shade=True)\n",
    "\n",
    "sns.kdeplot(df_user_ratedmovies_timestamps['movieID'], color='r', shade=True)\n",
    "  \n",
    "plt.xlabel('ID')\n",
    "plt.ylabel('Probability Density')"
   ]
  },
  {
   "cell_type": "code",
   "execution_count": null,
   "id": "b4da41a0-a283-4371-a60c-87dc9f843199",
   "metadata": {},
   "outputs": [],
   "source": []
  }
 ],
 "metadata": {
  "kernelspec": {
   "display_name": "Python 3 (ipykernel)",
   "language": "python",
   "name": "python3"
  },
  "language_info": {
   "codemirror_mode": {
    "name": "ipython",
    "version": 3
   },
   "file_extension": ".py",
   "mimetype": "text/x-python",
   "name": "python",
   "nbconvert_exporter": "python",
   "pygments_lexer": "ipython3",
   "version": "3.10.9"
  }
 },
 "nbformat": 4,
 "nbformat_minor": 5
}
